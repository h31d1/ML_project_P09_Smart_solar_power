{
 "cells": [
  {
   "cell_type": "code",
   "execution_count": 2,
   "metadata": {
    "collapsed": false,
    "pycharm": {
     "name": "#%%\n"
    }
   },
   "outputs": [],
   "source": [
    "import numpy as np\n",
    "import pandas as pd\n",
    "import matplotlib.pyplot as plt\n",
    "from datetime import datetime\n",
    "from statsmodels.tsa.arima.model import ARIMA\n",
    "from sklearn.metrics import mean_squared_error"
   ]
  },
  {
   "cell_type": "markdown",
   "metadata": {},
   "source": [
    "# Whole DATA"
   ]
  },
  {
   "cell_type": "markdown",
   "metadata": {},
   "source": [
    "## Clean txt files, concatenate and read them to dataframe"
   ]
  },
  {
   "cell_type": "code",
   "execution_count": 3,
   "metadata": {},
   "outputs": [],
   "source": [
    "for x in range(2013,2021):\n",
    "    f = open(f\"nov{x}-{x+1}.txt\", \"r\")\n",
    "    content = f.read()\n",
    "    f.close()\n",
    "\n",
    "    content = content.replace(\" \",\"\")\n",
    "\n",
    "    g = open(f\"nov{x}-{x+1}.txt\", \"w\")\n",
    "    g.write(content)\n",
    "    g.close()"
   ]
  },
  {
   "cell_type": "code",
   "execution_count": 4,
   "metadata": {},
   "outputs": [],
   "source": [
    "frames = []\n",
    "\n",
    "for x in range(2013,2021):\n",
    "    frames.append(pd.read_csv(f\"nov{x}-{x+1}.txt\", sep = \",\"))\n",
    "\n",
    "data = pd.concat(frames)"
   ]
  },
  {
   "cell_type": "code",
   "execution_count": 5,
   "metadata": {},
   "outputs": [],
   "source": [
    "data = data.rename(columns = {'&Otilde;hur&otilde;hk':'Õhurõhk'})"
   ]
  },
  {
   "cell_type": "markdown",
   "metadata": {},
   "source": [
    "## Cleansing"
   ]
  },
  {
   "cell_type": "code",
   "execution_count": 6,
   "metadata": {},
   "outputs": [],
   "source": [
    "def repair_timestamp(data):\n",
    "    data[\"Aeg\"] = data.apply(lambda row: datetime.strptime(row[\"Aeg\"],\"%Y-%m-%d%H:%M:%S\"), axis=1)"
   ]
  },
  {
   "cell_type": "code",
   "execution_count": 7,
   "metadata": {},
   "outputs": [],
   "source": [
    "repair_timestamp(data)"
   ]
  },
  {
   "cell_type": "code",
   "execution_count": 8,
   "metadata": {},
   "outputs": [
    {
     "data": {
      "text/plain": [
       "Aeg               datetime64[ns]\n",
       "Temperatuur              float64\n",
       "Niiskus                  float64\n",
       "Õhurõhk                  float64\n",
       "Tuulekiirus              float64\n",
       "Tuulesuund               float64\n",
       "Sademed                  float64\n",
       "UVindeks                 float64\n",
       "Valgustatus              float64\n",
       "Kiirgusvoog              float64\n",
       "Radioaktiivsus           float64\n",
       "dtype: object"
      ]
     },
     "execution_count": 8,
     "metadata": {},
     "output_type": "execute_result"
    }
   ],
   "source": [
    "data.dtypes"
   ]
  },
  {
   "cell_type": "code",
   "execution_count": 9,
   "metadata": {},
   "outputs": [
    {
     "data": {
      "text/plain": [
       "Aeg                     0\n",
       "Temperatuur             0\n",
       "Niiskus                 0\n",
       "Õhurõhk                 0\n",
       "Tuulekiirus             0\n",
       "Tuulesuund              0\n",
       "Sademed                 0\n",
       "Kiirgusvoog             0\n",
       "KiirgusvoogTulevikus    0\n",
       "dtype: int64"
      ]
     },
     "execution_count": 9,
     "metadata": {},
     "output_type": "execute_result"
    }
   ],
   "source": [
    "data = data[[\"Aeg\",\"Temperatuur\",\"Niiskus\",\"Õhurõhk\",\"Tuulekiirus\",\"Tuulesuund\",\"Sademed\",\"Kiirgusvoog\"]]\n",
    "\n",
    "data['Sademed'] = data['Sademed'].fillna(0)\n",
    "data['Tuulekiirus'] = data['Tuulekiirus'].fillna(method='backfill')\n",
    "data['Tuulesuund'] = data['Tuulesuund'].fillna(method='backfill')\n",
    "data['Temperatuur'] = data['Temperatuur'].fillna(method='backfill')\n",
    "data['Niiskus'] = data['Niiskus'].fillna(method='backfill')\n",
    "data['Õhurõhk'] = data['Õhurõhk'].fillna(method='backfill')\n",
    "data['Kiirgusvoog'] = data['Kiirgusvoog'].fillna(method='backfill')\n",
    "data[\"KiirgusvoogTulevikus\"] = data[\"Kiirgusvoog\"].shift(-1)\n",
    "data = data.dropna()\n",
    "data.isnull().sum()"
   ]
  },
  {
   "cell_type": "code",
   "execution_count": 10,
   "metadata": {},
   "outputs": [
    {
     "data": {
      "text/plain": [
       "Index(['timestamp', 'temperature', 'humidity', 'atmospheric_pressure',\n",
       "       'wind_speed', 'wind_direction', 'precipitation', 'radiation_flux',\n",
       "       'rad_flux_infuture'],\n",
       "      dtype='object')"
      ]
     },
     "execution_count": 10,
     "metadata": {},
     "output_type": "execute_result"
    }
   ],
   "source": [
    "data = data.rename(columns = {\n",
    "    'Aeg': 'timestamp',\n",
    "    'Temperatuur':'temperature',\n",
    "    'Niiskus':'humidity',\n",
    "    'Õhurõhk':'atmospheric_pressure',\n",
    "    'Tuulekiirus':'wind_speed',\n",
    "    'Tuulesuund':'wind_direction',\n",
    "    'Sademed':'precipitation',\n",
    "    #'Sadanudlumi':'snow',\n",
    "    'Kiirgusvoog':'radiation_flux',\n",
    "    'KiirgusvoogTulevikus':'rad_flux_infuture'    \n",
    "    })\n",
    "data.columns"
   ]
  },
  {
   "cell_type": "code",
   "execution_count": 11,
   "metadata": {},
   "outputs": [
    {
     "data": {
      "text/html": [
       "<div>\n",
       "<style scoped>\n",
       "    .dataframe tbody tr th:only-of-type {\n",
       "        vertical-align: middle;\n",
       "    }\n",
       "\n",
       "    .dataframe tbody tr th {\n",
       "        vertical-align: top;\n",
       "    }\n",
       "\n",
       "    .dataframe thead th {\n",
       "        text-align: right;\n",
       "    }\n",
       "</style>\n",
       "<table border=\"1\" class=\"dataframe\">\n",
       "  <thead>\n",
       "    <tr style=\"text-align: right;\">\n",
       "      <th></th>\n",
       "      <th>temperature</th>\n",
       "      <th>humidity</th>\n",
       "      <th>atmospheric_pressure</th>\n",
       "      <th>wind_speed</th>\n",
       "      <th>wind_direction</th>\n",
       "      <th>precipitation</th>\n",
       "      <th>radiation_flux</th>\n",
       "      <th>rad_flux_infuture</th>\n",
       "    </tr>\n",
       "  </thead>\n",
       "  <tbody>\n",
       "    <tr>\n",
       "      <th>count</th>\n",
       "      <td>811085.000000</td>\n",
       "      <td>811085.000000</td>\n",
       "      <td>811085.000000</td>\n",
       "      <td>811085.000000</td>\n",
       "      <td>811085.000000</td>\n",
       "      <td>811085.000000</td>\n",
       "      <td>811085.000000</td>\n",
       "      <td>811085.000000</td>\n",
       "    </tr>\n",
       "    <tr>\n",
       "      <th>mean</th>\n",
       "      <td>6.825025</td>\n",
       "      <td>75.458473</td>\n",
       "      <td>1010.824081</td>\n",
       "      <td>3.258511</td>\n",
       "      <td>199.267411</td>\n",
       "      <td>0.004576</td>\n",
       "      <td>89.464947</td>\n",
       "      <td>89.464947</td>\n",
       "    </tr>\n",
       "    <tr>\n",
       "      <th>std</th>\n",
       "      <td>8.905742</td>\n",
       "      <td>19.869568</td>\n",
       "      <td>11.040802</td>\n",
       "      <td>1.678265</td>\n",
       "      <td>91.412932</td>\n",
       "      <td>0.050455</td>\n",
       "      <td>181.339887</td>\n",
       "      <td>181.339887</td>\n",
       "    </tr>\n",
       "    <tr>\n",
       "      <th>min</th>\n",
       "      <td>-24.307660</td>\n",
       "      <td>0.000000</td>\n",
       "      <td>963.557524</td>\n",
       "      <td>0.000000</td>\n",
       "      <td>0.000000</td>\n",
       "      <td>0.000000</td>\n",
       "      <td>-2.625525</td>\n",
       "      <td>-2.625525</td>\n",
       "    </tr>\n",
       "    <tr>\n",
       "      <th>25%</th>\n",
       "      <td>0.635374</td>\n",
       "      <td>62.394290</td>\n",
       "      <td>1003.885773</td>\n",
       "      <td>2.053779</td>\n",
       "      <td>124.554193</td>\n",
       "      <td>0.000000</td>\n",
       "      <td>0.000000</td>\n",
       "      <td>0.000000</td>\n",
       "    </tr>\n",
       "    <tr>\n",
       "      <th>50%</th>\n",
       "      <td>5.843931</td>\n",
       "      <td>81.315327</td>\n",
       "      <td>1011.116467</td>\n",
       "      <td>3.025117</td>\n",
       "      <td>224.132079</td>\n",
       "      <td>0.000000</td>\n",
       "      <td>2.639460</td>\n",
       "      <td>2.639460</td>\n",
       "    </tr>\n",
       "    <tr>\n",
       "      <th>75%</th>\n",
       "      <td>13.633509</td>\n",
       "      <td>91.499743</td>\n",
       "      <td>1018.149000</td>\n",
       "      <td>4.240506</td>\n",
       "      <td>274.416061</td>\n",
       "      <td>0.000000</td>\n",
       "      <td>74.003317</td>\n",
       "      <td>74.003317</td>\n",
       "    </tr>\n",
       "    <tr>\n",
       "      <th>max</th>\n",
       "      <td>33.553939</td>\n",
       "      <td>117.297204</td>\n",
       "      <td>1045.714767</td>\n",
       "      <td>15.497177</td>\n",
       "      <td>360.000000</td>\n",
       "      <td>9.799000</td>\n",
       "      <td>1132.409778</td>\n",
       "      <td>1132.409778</td>\n",
       "    </tr>\n",
       "  </tbody>\n",
       "</table>\n",
       "</div>"
      ],
      "text/plain": [
       "         temperature       humidity  atmospheric_pressure     wind_speed  \\\n",
       "count  811085.000000  811085.000000         811085.000000  811085.000000   \n",
       "mean        6.825025      75.458473           1010.824081       3.258511   \n",
       "std         8.905742      19.869568             11.040802       1.678265   \n",
       "min       -24.307660       0.000000            963.557524       0.000000   \n",
       "25%         0.635374      62.394290           1003.885773       2.053779   \n",
       "50%         5.843931      81.315327           1011.116467       3.025117   \n",
       "75%        13.633509      91.499743           1018.149000       4.240506   \n",
       "max        33.553939     117.297204           1045.714767      15.497177   \n",
       "\n",
       "       wind_direction  precipitation  radiation_flux  rad_flux_infuture  \n",
       "count   811085.000000  811085.000000   811085.000000      811085.000000  \n",
       "mean       199.267411       0.004576       89.464947          89.464947  \n",
       "std         91.412932       0.050455      181.339887         181.339887  \n",
       "min          0.000000       0.000000       -2.625525          -2.625525  \n",
       "25%        124.554193       0.000000        0.000000           0.000000  \n",
       "50%        224.132079       0.000000        2.639460           2.639460  \n",
       "75%        274.416061       0.000000       74.003317          74.003317  \n",
       "max        360.000000       9.799000     1132.409778        1132.409778  "
      ]
     },
     "execution_count": 11,
     "metadata": {},
     "output_type": "execute_result"
    }
   ],
   "source": [
    "data.describe()"
   ]
  },
  {
   "cell_type": "code",
   "execution_count": 12,
   "metadata": {},
   "outputs": [
    {
     "data": {
      "text/html": [
       "<div>\n",
       "<style scoped>\n",
       "    .dataframe tbody tr th:only-of-type {\n",
       "        vertical-align: middle;\n",
       "    }\n",
       "\n",
       "    .dataframe tbody tr th {\n",
       "        vertical-align: top;\n",
       "    }\n",
       "\n",
       "    .dataframe thead th {\n",
       "        text-align: right;\n",
       "    }\n",
       "</style>\n",
       "<table border=\"1\" class=\"dataframe\">\n",
       "  <thead>\n",
       "    <tr style=\"text-align: right;\">\n",
       "      <th></th>\n",
       "      <th>timestamp</th>\n",
       "      <th>temperature</th>\n",
       "      <th>humidity</th>\n",
       "      <th>atmospheric_pressure</th>\n",
       "      <th>wind_speed</th>\n",
       "      <th>wind_direction</th>\n",
       "      <th>precipitation</th>\n",
       "      <th>radiation_flux</th>\n",
       "      <th>rad_flux_infuture</th>\n",
       "    </tr>\n",
       "  </thead>\n",
       "  <tbody>\n",
       "    <tr>\n",
       "      <th>38198</th>\n",
       "      <td>2014-03-27 15:55:00</td>\n",
       "      <td>10.495461</td>\n",
       "      <td>1.815235</td>\n",
       "      <td>1015.089723</td>\n",
       "      <td>3.493323</td>\n",
       "      <td>31.397019</td>\n",
       "      <td>0.0</td>\n",
       "      <td>0.000000</td>\n",
       "      <td>0.000000</td>\n",
       "    </tr>\n",
       "    <tr>\n",
       "      <th>11299</th>\n",
       "      <td>2017-12-24 05:35:00</td>\n",
       "      <td>1.143612</td>\n",
       "      <td>67.718081</td>\n",
       "      <td>984.374333</td>\n",
       "      <td>7.498888</td>\n",
       "      <td>300.774215</td>\n",
       "      <td>0.0</td>\n",
       "      <td>2.181622</td>\n",
       "      <td>2.150262</td>\n",
       "    </tr>\n",
       "    <tr>\n",
       "      <th>36670</th>\n",
       "      <td>2014-03-22 08:35:00</td>\n",
       "      <td>5.775338</td>\n",
       "      <td>56.652363</td>\n",
       "      <td>994.065698</td>\n",
       "      <td>2.781791</td>\n",
       "      <td>244.216785</td>\n",
       "      <td>0.0</td>\n",
       "      <td>0.000000</td>\n",
       "      <td>0.000000</td>\n",
       "    </tr>\n",
       "    <tr>\n",
       "      <th>102956</th>\n",
       "      <td>2017-11-07 11:25:00</td>\n",
       "      <td>6.602788</td>\n",
       "      <td>77.857366</td>\n",
       "      <td>1026.091433</td>\n",
       "      <td>4.207248</td>\n",
       "      <td>273.217437</td>\n",
       "      <td>0.0</td>\n",
       "      <td>275.020651</td>\n",
       "      <td>308.095015</td>\n",
       "    </tr>\n",
       "    <tr>\n",
       "      <th>82378</th>\n",
       "      <td>2021-08-19 16:05:00</td>\n",
       "      <td>17.092005</td>\n",
       "      <td>77.800577</td>\n",
       "      <td>999.906000</td>\n",
       "      <td>3.879417</td>\n",
       "      <td>230.948439</td>\n",
       "      <td>0.0</td>\n",
       "      <td>495.758953</td>\n",
       "      <td>464.955255</td>\n",
       "    </tr>\n",
       "  </tbody>\n",
       "</table>\n",
       "</div>"
      ],
      "text/plain": [
       "                 timestamp  temperature   humidity  atmospheric_pressure  \\\n",
       "38198  2014-03-27 15:55:00    10.495461   1.815235           1015.089723   \n",
       "11299  2017-12-24 05:35:00     1.143612  67.718081            984.374333   \n",
       "36670  2014-03-22 08:35:00     5.775338  56.652363            994.065698   \n",
       "102956 2017-11-07 11:25:00     6.602788  77.857366           1026.091433   \n",
       "82378  2021-08-19 16:05:00    17.092005  77.800577            999.906000   \n",
       "\n",
       "        wind_speed  wind_direction  precipitation  radiation_flux  \\\n",
       "38198     3.493323       31.397019            0.0        0.000000   \n",
       "11299     7.498888      300.774215            0.0        2.181622   \n",
       "36670     2.781791      244.216785            0.0        0.000000   \n",
       "102956    4.207248      273.217437            0.0      275.020651   \n",
       "82378     3.879417      230.948439            0.0      495.758953   \n",
       "\n",
       "        rad_flux_infuture  \n",
       "38198            0.000000  \n",
       "11299            2.150262  \n",
       "36670            0.000000  \n",
       "102956         308.095015  \n",
       "82378          464.955255  "
      ]
     },
     "execution_count": 12,
     "metadata": {},
     "output_type": "execute_result"
    }
   ],
   "source": [
    "data.sample(5)"
   ]
  },
  {
   "cell_type": "code",
   "execution_count": 13,
   "metadata": {},
   "outputs": [],
   "source": [
    "#current_timestamp = str(round(datetime.datetime.now().timestamp()))\n",
    "#print(current_timestamp)\n",
    "#data.to_csv(f\"data{current_timestamp}.csv\",index=False)"
   ]
  },
  {
   "cell_type": "markdown",
   "metadata": {},
   "source": [
    "## Timeseries"
   ]
  },
  {
   "cell_type": "code",
   "execution_count": 14,
   "metadata": {},
   "outputs": [],
   "source": [
    "def parser(x):\n",
    "    return datetime.strptime(x,\"%Y-%m-%d %H:%M:%S\")"
   ]
  },
  {
   "cell_type": "code",
   "execution_count": 15,
   "metadata": {},
   "outputs": [
    {
     "data": {
      "text/plain": [
       "timestamp\n",
       "2020-11-06 17:25      0.000000\n",
       "2020-10-07 16:05    218.223813\n",
       "2017-05-31 15:30     84.403976\n",
       "2021-03-27 04:50      5.326073\n",
       "2019-10-24 10:50     52.516804\n",
       "Freq: T, Name: radiation_flux, dtype: float64"
      ]
     },
     "execution_count": 15,
     "metadata": {},
     "output_type": "execute_result"
    }
   ],
   "source": [
    "series_rad = data[[\"timestamp\",\"radiation_flux\"]]\n",
    "series_rad.to_csv(\"series_rad.csv\",index=False)\n",
    "series_rad = pd.read_csv(\"series_rad.csv\",header=0, index_col=0, parse_dates=True, squeeze=True, date_parser=parser)\n",
    "series_rad.index = series_rad.index.to_period('T')\n",
    "series_rad.sample(5)"
   ]
  },
  {
   "cell_type": "code",
   "execution_count": 16,
   "metadata": {},
   "outputs": [
    {
     "data": {
      "text/plain": [
       "Period('2021-11-14 23:50', 'T')"
      ]
     },
     "execution_count": 16,
     "metadata": {},
     "output_type": "execute_result"
    }
   ],
   "source": [
    "series_rad.index.max()"
   ]
  },
  {
   "cell_type": "code",
   "execution_count": 17,
   "metadata": {},
   "outputs": [],
   "source": [
    "def filter_time(series,min_time):\n",
    "    return series[series.index>=min_time]"
   ]
  },
  {
   "cell_type": "code",
   "execution_count": 18,
   "metadata": {},
   "outputs": [],
   "source": [
    "series_rad_selection = filter_time(series_rad,\"2021-11-01 00:00\")"
   ]
  },
  {
   "cell_type": "code",
   "execution_count": 19,
   "metadata": {},
   "outputs": [
    {
     "name": "stdout",
     "output_type": "stream",
     "text": [
      "max:  349.008903987\n",
      "min:  0.0\n"
     ]
    }
   ],
   "source": [
    "print(\"max: \",series_rad_selection.values.max())\n",
    "print(\"min: \",series_rad_selection.values.min())"
   ]
  },
  {
   "cell_type": "markdown",
   "metadata": {},
   "source": [
    "# ARIMA"
   ]
  },
  {
   "cell_type": "markdown",
   "metadata": {},
   "source": [
    "## About"
   ]
  },
  {
   "cell_type": "markdown",
   "metadata": {},
   "source": [
    "An ARIMA model is a class of statistical models for analyzing and forecasting time series data.\n",
    "\n",
    "It explicitly caters to a suite of standard structures in time series data, and as such provides a simple yet powerful method for making skillful time series forecasts.\n",
    "\n",
    "ARIMA is an acronym that stands for AutoRegressive Integrated Moving Average. It is a generalization of the simpler AutoRegressive Moving Average and adds the notion of integration.\n",
    "\n",
    "This acronym is descriptive, capturing the key aspects of the model itself. Briefly, they are:\n",
    "\n",
    "AR: Autoregression. A model that uses the dependent relationship between an observation and some number of lagged observations.\n",
    "I: Integrated. The use of differencing of raw observations (e.g. subtracting an observation from an observation at the previous time step) in order to make the time series stationary.\n",
    "MA: Moving Average. A model that uses the dependency between an observation and a residual error from a moving average model applied to lagged observations.\n",
    "Each of these components are explicitly specified in the model as a parameter. A standard notation is used of ARIMA(p,d,q) where the parameters are substituted with integer values to quickly indicate the specific ARIMA model being used.\n",
    "\n",
    "The parameters of the ARIMA model are defined as follows:\n",
    "\n",
    "p: The number of lag observations included in the model, also called the lag order.\n",
    "d: The number of times that the raw observations are differenced, also called the degree of differencing.\n",
    "q: The size of the moving average window, also called the order of moving average.\n",
    "A linear regression model is constructed including the specified number and type of terms, and the data is prepared by a degree of differencing in order to make it stationary, i.e. to remove trend and seasonal structures that negatively affect the regression model.\n",
    "\n",
    "A value of 0 can be used for a parameter, which indicates to not use that element of the model. This way, the ARIMA model can be configured to perform the function of an ARMA model, and even a simple AR, I, or MA model.\n",
    "\n",
    "Adopting an ARIMA model for a time series assumes that the underlying process that generated the observations is an ARIMA process. This may seem obvious, but helps to motivate the need to confirm the assumptions of the model in the raw observations and in the residual errors of forecasts from the model."
   ]
  },
  {
   "cell_type": "markdown",
   "metadata": {},
   "source": [
    "## Autocorrelation"
   ]
  },
  {
   "cell_type": "code",
   "execution_count": 50,
   "metadata": {},
   "outputs": [
    {
     "data": {
      "image/png": "[encoded data removed]",
      "text/plain": [
       "<Figure size 432x288 with 1 Axes>"
      ]
     },
     "metadata": {
      "needs_background": "light"
     },
     "output_type": "display_data"
    }
   ],
   "source": [
    "from pandas.plotting import autocorrelation_plot\n",
    "\n",
    "autocorrelation_plot(series_rad_selection)\n",
    "plt.show()"
   ]
  },
  {
   "cell_type": "markdown",
   "metadata": {},
   "source": [
    "We can see here negative autocorrelation?"
   ]
  },
  {
   "cell_type": "markdown",
   "metadata": {},
   "source": [
    "## Train and predict"
   ]
  },
  {
   "cell_type": "code",
   "execution_count": 51,
   "metadata": {},
   "outputs": [
    {
     "name": "stdout",
     "output_type": "stream",
     "text": [
      "                               SARIMAX Results                                \n",
      "==============================================================================\n",
      "Dep. Variable:         radiation_flux   No. Observations:                 4031\n",
      "Model:                 ARIMA(5, 1, 0)   Log Likelihood              -13763.999\n",
      "Date:                Thu, 02 Dec 2021   AIC                          27539.998\n",
      "Time:                        14:42:39   BIC                          27577.807\n",
      "Sample:                    11-01-2021   HQIC                         27553.395\n",
      "                         - 11-14-2021                                         \n",
      "Covariance Type:                  opg                                         \n",
      "==============================================================================\n",
      "                 coef    std err          z      P>|z|      [0.025      0.975]\n",
      "------------------------------------------------------------------------------\n",
      "ar.L1          0.2245      0.005     47.792      0.000       0.215       0.234\n",
      "ar.L2         -0.1643      0.005    -33.352      0.000      -0.174      -0.155\n",
      "ar.L3          0.0597      0.006     10.122      0.000       0.048       0.071\n",
      "ar.L4         -0.0282      0.005     -5.280      0.000      -0.039      -0.018\n",
      "ar.L5          0.0441      0.006      7.585      0.000       0.033       0.056\n",
      "sigma2        54.2100      0.290    186.681      0.000      53.641      54.779\n",
      "===================================================================================\n",
      "Ljung-Box (L1) (Q):                   0.05   Jarque-Bera (JB):            192657.09\n",
      "Prob(Q):                              0.83   Prob(JB):                         0.00\n",
      "Heteroskedasticity (H):               1.83   Skew:                            -0.10\n",
      "Prob(H) (two-sided):                  0.00   Kurtosis:                        36.87\n",
      "===================================================================================\n",
      "\n",
      "Warnings:\n",
      "[1] Covariance matrix calculated using the outer product of gradients (complex-step).\n"
     ]
    }
   ],
   "source": [
    "# fit model\n",
    "model = ARIMA(series_rad_selection, order=(5,1,0))\n",
    "model_fit = model.fit()\n",
    "# summary of fit model\n",
    "print(model_fit.summary())"
   ]
  },
  {
   "cell_type": "code",
   "execution_count": 52,
   "metadata": {},
   "outputs": [
    {
     "data": {
      "image/png": "[encoded data removed]",
      "text/plain": [
       "<Figure size 432x288 with 1 Axes>"
      ]
     },
     "metadata": {
      "needs_background": "light"
     },
     "output_type": "display_data"
    },
    {
     "data": {
      "image/png": "[encoded data removed]",
      "text/plain": [
       "<Figure size 432x288 with 1 Axes>"
      ]
     },
     "metadata": {
      "needs_background": "light"
     },
     "output_type": "display_data"
    },
    {
     "name": "stdout",
     "output_type": "stream",
     "text": [
      "                   0\n",
      "count   4.031000e+03\n",
      "mean    7.699380e-17\n",
      "std     7.362751e+00\n",
      "min    -9.126291e+01\n",
      "25%    -1.479426e-37\n",
      "50%    1.976263e-323\n",
      "75%     1.671301e-35\n",
      "max     6.917988e+01\n"
     ]
    }
   ],
   "source": [
    "# line plot of residuals\n",
    "residuals = pd.DataFrame(model_fit.resid)\n",
    "residuals.plot()\n",
    "plt.show()\n",
    "# density plot of residuals\n",
    "residuals.plot(kind='kde')\n",
    "plt.show()\n",
    "# summary stats of residuals\n",
    "print(residuals.describe())"
   ]
  },
  {
   "cell_type": "markdown",
   "metadata": {},
   "source": [
    "## Evaluate an ARIMA model using a walk-forward validation"
   ]
  },
  {
   "cell_type": "code",
   "execution_count": 55,
   "metadata": {},
   "outputs": [],
   "source": [
    "# split into train and test sets\n",
    "X = series_rad_selection.values\n",
    "size = int(len(X) * 0.90)\n",
    "train, test = X[0:size], X[size:len(X)]\n",
    "history = [x for x in train]"
   ]
  },
  {
   "cell_type": "code",
   "execution_count": 56,
   "metadata": {},
   "outputs": [
    {
     "name": "stdout",
     "output_type": "stream",
     "text": [
      "values X:  (4031,) <class 'numpy.ndarray'>\n",
      "train:  (3627,) <class 'numpy.ndarray'>\n",
      "test:  (404,) <class 'numpy.ndarray'>\n",
      "history:  3627 <class 'list'>\n"
     ]
    }
   ],
   "source": [
    "print(\"values X: \",X.shape,type(X))\n",
    "print(\"train: \",train.shape,type(train))\n",
    "print(\"test: \",test.shape,type(test))\n",
    "print(\"history: \",len(history),type(history))"
   ]
  },
  {
   "cell_type": "code",
   "execution_count": 57,
   "metadata": {},
   "outputs": [
    {
     "name": "stdout",
     "output_type": "stream",
     "text": [
      "predicted=30.159123, expected=32.502660\n",
      "predicted=33.405349, expected=32.980168\n",
      "predicted=32.404106, expected=33.432400\n",
      "predicted=33.496881, expected=29.579142\n",
      "predicted=28.469383, expected=26.049644\n",
      "predicted=26.200094, expected=20.489384\n",
      "predicted=19.730527, expected=17.188864\n",
      "predicted=17.461024, expected=20.229390\n",
      "predicted=20.973749, expected=18.784309\n",
      "predicted=17.605195, expected=14.274026\n",
      "predicted=13.506332, expected=8.616580\n",
      "predicted=7.833284, expected=4.906393\n",
      "predicted=5.146879, expected=4.460701\n",
      "predicted=4.732383, expected=2.571173\n",
      "predicted=1.864144, expected=1.309795\n",
      "predicted=1.088665, expected=0.775596\n",
      "predicted=0.523469, expected=0.000000\n",
      "predicted=-0.119861, expected=0.000000\n",
      "predicted=0.018232, expected=0.000000\n",
      "predicted=-0.125029, expected=0.000000\n",
      "predicted=-0.012553, expected=0.000000\n",
      "predicted=-0.055176, expected=0.000000\n",
      "predicted=-0.000000, expected=0.000000\n",
      "predicted=0.000000, expected=0.000000\n",
      "predicted=-0.000000, expected=0.000000\n",
      "predicted=0.000000, expected=0.000000\n",
      "predicted=-0.000000, expected=0.000000\n",
      "predicted=0.000000, expected=0.000000\n",
      "predicted=0.000000, expected=0.000000\n",
      "predicted=-0.000000, expected=0.000000\n",
      "predicted=0.000000, expected=0.000000\n",
      "predicted=-0.000000, expected=0.000000\n",
      "predicted=0.000000, expected=0.000000\n",
      "predicted=-0.000000, expected=0.000000\n",
      "predicted=0.000000, expected=0.000000\n",
      "predicted=-0.000000, expected=0.000000\n",
      "predicted=-0.000000, expected=0.000000\n",
      "predicted=0.000000, expected=0.000000\n",
      "predicted=0.000000, expected=0.000000\n",
      "predicted=-0.000000, expected=0.000000\n",
      "predicted=0.000000, expected=0.000000\n",
      "predicted=-0.000000, expected=0.000000\n",
      "predicted=0.000000, expected=0.000000\n",
      "predicted=-0.000000, expected=0.000000\n",
      "predicted=0.000000, expected=0.000000\n",
      "predicted=-0.000000, expected=0.000000\n",
      "predicted=-0.000000, expected=0.000000\n",
      "predicted=0.000000, expected=0.000000\n",
      "predicted=0.000000, expected=0.000000\n",
      "predicted=-0.000000, expected=0.000000\n",
      "predicted=0.000000, expected=0.000000\n",
      "predicted=-0.000000, expected=0.000000\n",
      "predicted=0.000000, expected=0.000000\n",
      "predicted=0.000000, expected=0.000000\n",
      "predicted=0.000000, expected=0.000000\n",
      "predicted=-0.000000, expected=0.000000\n",
      "predicted=-0.000000, expected=0.000000\n",
      "predicted=-0.000000, expected=0.000000\n",
      "predicted=-0.000000, expected=0.000000\n",
      "predicted=0.000000, expected=0.000000\n",
      "predicted=0.000000, expected=0.000000\n",
      "predicted=-0.000000, expected=0.000000\n",
      "predicted=0.000000, expected=0.000000\n",
      "predicted=-0.000000, expected=0.000000\n",
      "predicted=0.000000, expected=0.000000\n",
      "predicted=-0.000000, expected=0.000000\n",
      "predicted=-0.000000, expected=0.000000\n",
      "predicted=0.000000, expected=0.000000\n",
      "predicted=0.000000, expected=0.000000\n",
      "predicted=-0.000000, expected=0.000000\n",
      "predicted=-0.000000, expected=0.000000\n",
      "predicted=-0.000000, expected=0.000000\n",
      "predicted=-0.000000, expected=0.000000\n",
      "predicted=-0.000000, expected=0.000000\n",
      "predicted=-0.000000, expected=0.000000\n",
      "predicted=-0.000000, expected=0.000000\n",
      "predicted=0.000000, expected=0.000000\n",
      "predicted=-0.000000, expected=0.000000\n",
      "predicted=0.000000, expected=0.000000\n",
      "predicted=-0.000000, expected=0.000000\n",
      "predicted=0.000000, expected=0.000000\n",
      "predicted=0.000000, expected=0.000000\n",
      "predicted=0.000000, expected=0.000000\n",
      "predicted=0.000000, expected=0.000000\n",
      "predicted=0.000000, expected=0.000000\n",
      "predicted=-0.000000, expected=0.000000\n",
      "predicted=-0.000000, expected=0.000000\n",
      "predicted=-0.000000, expected=0.000000\n",
      "predicted=0.000000, expected=0.000000\n",
      "predicted=-0.000000, expected=0.000000\n",
      "predicted=0.000000, expected=0.000000\n",
      "predicted=-0.000000, expected=0.000000\n",
      "predicted=-0.000000, expected=0.000000\n",
      "predicted=0.000000, expected=0.000000\n",
      "predicted=-0.000000, expected=0.000000\n",
      "predicted=0.000000, expected=0.000000\n",
      "predicted=0.000000, expected=0.000000\n",
      "predicted=-0.000000, expected=0.000000\n",
      "predicted=-0.000000, expected=0.000000\n",
      "predicted=0.000000, expected=0.000000\n",
      "predicted=0.000000, expected=0.000000\n",
      "predicted=-0.000000, expected=0.000000\n",
      "predicted=0.000000, expected=0.000000\n",
      "predicted=-0.000000, expected=0.000000\n",
      "predicted=0.000000, expected=0.000000\n",
      "predicted=-0.000000, expected=0.000000\n",
      "predicted=-0.000000, expected=0.000000\n",
      "predicted=0.000000, expected=0.000000\n",
      "predicted=-0.000000, expected=0.000000\n",
      "predicted=-0.000000, expected=0.000000\n",
      "predicted=0.000000, expected=0.000000\n",
      "predicted=-0.000000, expected=0.000000\n",
      "predicted=0.000000, expected=0.000000\n",
      "predicted=-0.000000, expected=0.000000\n",
      "predicted=0.000000, expected=0.000000\n",
      "predicted=-0.000000, expected=0.000000\n",
      "predicted=-0.000000, expected=0.000000\n",
      "predicted=-0.000000, expected=0.000000\n",
      "predicted=0.000000, expected=0.000000\n",
      "predicted=0.000000, expected=0.000000\n",
      "predicted=-0.000000, expected=0.000000\n",
      "predicted=-0.000000, expected=0.000000\n",
      "predicted=0.000000, expected=0.000000\n",
      "predicted=-0.000000, expected=0.000000\n",
      "predicted=-0.000000, expected=0.000000\n",
      "predicted=0.000000, expected=0.000000\n",
      "predicted=0.000000, expected=0.000000\n",
      "predicted=-0.000000, expected=0.000000\n",
      "predicted=-0.000000, expected=0.000000\n",
      "predicted=-0.000000, expected=0.000000\n",
      "predicted=-0.000000, expected=0.000000\n",
      "predicted=0.000000, expected=0.000000\n",
      "predicted=0.000000, expected=0.000000\n",
      "predicted=0.000000, expected=0.000000\n",
      "predicted=0.000000, expected=0.000000\n",
      "predicted=-0.000000, expected=0.000000\n",
      "predicted=0.000000, expected=0.000000\n",
      "predicted=0.000000, expected=0.000000\n",
      "predicted=-0.000000, expected=0.000000\n",
      "predicted=-0.000000, expected=0.000000\n",
      "predicted=-0.000000, expected=0.000000\n",
      "predicted=0.000000, expected=0.000000\n",
      "predicted=0.000000, expected=0.000000\n",
      "predicted=-0.000000, expected=0.000000\n",
      "predicted=0.000000, expected=0.000000\n",
      "predicted=-0.000000, expected=0.000000\n",
      "predicted=0.000000, expected=0.000000\n",
      "predicted=0.000000, expected=0.000000\n",
      "predicted=0.000000, expected=0.000000\n",
      "predicted=0.000000, expected=0.000000\n",
      "predicted=0.000000, expected=0.000000\n",
      "predicted=0.000000, expected=0.000000\n",
      "predicted=-0.000000, expected=0.000000\n",
      "predicted=-0.000000, expected=0.000000\n",
      "predicted=0.000000, expected=0.000000\n",
      "predicted=0.000000, expected=0.000000\n",
      "predicted=0.000000, expected=0.000000\n",
      "predicted=0.000000, expected=0.000000\n",
      "predicted=-0.000000, expected=0.000000\n",
      "predicted=0.000000, expected=0.000000\n",
      "predicted=0.000000, expected=0.000000\n",
      "predicted=0.000000, expected=0.000000\n",
      "predicted=0.000000, expected=0.000000\n",
      "predicted=0.000000, expected=0.000000\n",
      "predicted=0.000000, expected=0.000000\n",
      "predicted=-0.000000, expected=0.000000\n",
      "predicted=-0.000000, expected=0.000000\n",
      "predicted=0.000000, expected=0.000000\n",
      "predicted=-0.000000, expected=0.000000\n",
      "predicted=0.000000, expected=0.000000\n",
      "predicted=-0.000000, expected=0.000000\n",
      "predicted=-0.000000, expected=0.000000\n",
      "predicted=0.000000, expected=0.000000\n",
      "predicted=0.000000, expected=0.000000\n",
      "predicted=0.000000, expected=0.000000\n",
      "predicted=0.000000, expected=0.000000\n",
      "predicted=0.000000, expected=0.000000\n",
      "predicted=0.000000, expected=0.000000\n",
      "predicted=-0.000000, expected=0.000000\n",
      "predicted=0.000000, expected=0.000000\n",
      "predicted=-0.000000, expected=0.000000\n",
      "predicted=0.000000, expected=0.000000\n",
      "predicted=-0.000000, expected=0.000000\n",
      "predicted=0.000000, expected=0.000000\n",
      "predicted=-0.000000, expected=0.000000\n",
      "predicted=-0.000000, expected=0.000000\n",
      "predicted=0.000000, expected=0.000000\n",
      "predicted=-0.000000, expected=0.080162\n",
      "predicted=0.097313, expected=0.000000\n",
      "predicted=-0.032411, expected=0.000000\n",
      "predicted=0.020720, expected=0.000000\n",
      "predicted=-0.008090, expected=0.000000\n",
      "predicted=0.008334, expected=0.000000\n",
      "predicted=-0.005703, expected=0.000000\n",
      "predicted=-0.000000, expected=0.000000\n",
      "predicted=0.000000, expected=0.000000\n",
      "predicted=0.000000, expected=0.000000\n",
      "predicted=0.000000, expected=0.000000\n",
      "predicted=-0.000000, expected=0.000000\n",
      "predicted=-0.000000, expected=0.000000\n",
      "predicted=0.000000, expected=0.000000\n",
      "predicted=0.000000, expected=0.000000\n",
      "predicted=0.000000, expected=0.000000\n",
      "predicted=0.000000, expected=0.000000\n",
      "predicted=-0.000000, expected=0.000000\n",
      "predicted=-0.000000, expected=0.000000\n",
      "predicted=-0.000000, expected=0.000000\n",
      "predicted=-0.000000, expected=0.000000\n",
      "predicted=0.000000, expected=0.000000\n",
      "predicted=-0.000000, expected=0.000000\n",
      "predicted=0.000000, expected=0.000000\n",
      "predicted=-0.000000, expected=0.000000\n",
      "predicted=0.000000, expected=0.371258\n",
      "predicted=0.450692, expected=0.155638\n",
      "predicted=0.038829, expected=0.766047\n",
      "predicted=0.962979, expected=1.830129\n",
      "predicted=1.914725, expected=2.214710\n",
      "predicted=2.169492, expected=2.888154\n",
      "predicted=2.996139, expected=3.687726\n",
      "predicted=3.765312, expected=5.359322\n",
      "predicted=5.673752, expected=8.714456\n",
      "predicted=9.173997, expected=14.847605\n",
      "predicted=15.657733, expected=15.095217\n",
      "predicted=14.211662, expected=16.270101\n",
      "predicted=16.901674, expected=16.644221\n",
      "predicted=16.555467, expected=16.163243\n",
      "predicted=16.497612, expected=17.702637\n",
      "predicted=18.128296, expected=24.162405\n",
      "predicted=25.291215, expected=20.727584\n",
      "predicted=18.910690, expected=19.933476\n",
      "predicted=20.772916, expected=45.087357\n",
      "predicted=50.284069, expected=87.480581\n",
      "predicted=92.451423, expected=106.294418\n",
      "predicted=103.908674, expected=113.683952\n",
      "predicted=113.897106, expected=128.702858\n",
      "predicted=132.557219, expected=148.431799\n",
      "predicted=153.185567, expected=170.843264\n",
      "predicted=174.610484, expected=182.230123\n",
      "predicted=182.320281, expected=123.331185\n",
      "predicted=110.105847, expected=87.285098\n",
      "predicted=91.940505, expected=100.946720\n",
      "predicted=108.286492, expected=88.026790\n",
      "predicted=82.484295, expected=136.800021\n",
      "predicted=148.184375, expected=186.511200\n",
      "predicted=184.357807, expected=224.775103\n",
      "predicted=229.494023, expected=236.097883\n",
      "predicted=232.059978, expected=238.260011\n",
      "predicted=240.062747, expected=226.279860\n",
      "predicted=224.774423, expected=194.827011\n",
      "predicted=190.931611, expected=215.996657\n",
      "predicted=226.656823, expected=134.378152\n",
      "predicted=110.768693, expected=120.966896\n",
      "predicted=134.068992, expected=126.261325\n",
      "predicted=121.872565, expected=131.285794\n",
      "predicted=135.579293, expected=118.624970\n",
      "predicted=112.111532, expected=104.549960\n",
      "predicted=102.927921, expected=145.301764\n",
      "predicted=155.927627, expected=192.106497\n",
      "predicted=195.744073, expected=204.376415\n",
      "predicted=201.623508, expected=174.933001\n",
      "predicted=166.452657, expected=204.537229\n",
      "predicted=217.258067, expected=203.128730\n",
      "predicted=197.740418, expected=198.182823\n",
      "predicted=200.476189, expected=195.773076\n",
      "predicted=193.847612, expected=195.114490\n",
      "predicted=196.358452, expected=193.841414\n",
      "predicted=193.629422, expected=192.059531\n",
      "predicted=191.713446, expected=191.583854\n",
      "predicted=191.626593, expected=190.398948\n",
      "predicted=190.128716, expected=187.868413\n",
      "predicted=187.483466, expected=185.332475\n",
      "predicted=185.070187, expected=183.937934\n",
      "predicted=183.928114, expected=180.086176\n",
      "predicted=179.354657, expected=177.631823\n",
      "predicted=177.628584, expected=174.805087\n",
      "predicted=174.312135, expected=171.208919\n",
      "predicted=170.808656, expected=166.684175\n",
      "predicted=166.041749, expected=162.819094\n",
      "predicted=162.502113, expected=158.441695\n",
      "predicted=157.856064, expected=153.731381\n",
      "predicted=153.190316, expected=149.182128\n",
      "predicted=148.643443, expected=144.635827\n",
      "predicted=144.093413, expected=139.023332\n",
      "predicted=138.240432, expected=133.917232\n",
      "predicted=133.403729, expected=128.535561\n",
      "predicted=127.820281, expected=120.351044\n",
      "predicted=119.117260, expected=112.430190\n",
      "predicted=111.640857, expected=111.348886\n",
      "predicted=111.903342, expected=104.802497\n",
      "predicted=103.089729, expected=103.097457\n",
      "predicted=103.635396, expected=101.495062\n",
      "predicted=100.743997, expected=95.148163\n",
      "predicted=94.054712, expected=84.726470\n",
      "predicted=83.142011, expected=76.706514\n",
      "predicted=76.255947, expected=66.310119\n",
      "predicted=64.831718, expected=55.845659\n",
      "predicted=54.791111, expected=52.360295\n",
      "predicted=52.489812, expected=47.831261\n",
      "predicted=46.736993, expected=40.785548\n",
      "predicted=39.604638, expected=33.747494\n",
      "predicted=32.711954, expected=27.755548\n",
      "predicted=27.133600, expected=21.875347\n",
      "predicted=21.129760, expected=16.552544\n",
      "predicted=15.862237, expected=11.363119\n",
      "predicted=10.585077, expected=7.211201\n",
      "predicted=6.717990, expected=2.813267\n",
      "predicted=2.089388, expected=2.162812\n",
      "predicted=2.403555, expected=0.816071\n",
      "predicted=0.246009, expected=0.807579\n",
      "predicted=0.929112, expected=0.203423\n",
      "predicted=-0.186947, expected=0.000000\n",
      "predicted=0.062394, expected=0.000000\n",
      "predicted=-0.061830, expected=0.000000\n",
      "predicted=0.004514, expected=0.000000\n",
      "predicted=-0.020913, expected=0.000000\n",
      "predicted=-0.008973, expected=0.000000\n",
      "predicted=-0.000000, expected=0.000000\n",
      "predicted=-0.000000, expected=0.000000\n",
      "predicted=0.000000, expected=0.000000\n",
      "predicted=-0.000000, expected=0.000000\n",
      "predicted=0.000000, expected=0.000000\n",
      "predicted=-0.000000, expected=0.000000\n",
      "predicted=0.000000, expected=0.000000\n",
      "predicted=-0.000000, expected=0.000000\n",
      "predicted=-0.000000, expected=0.000000\n",
      "predicted=0.000000, expected=0.000000\n",
      "predicted=0.000000, expected=0.000000\n",
      "predicted=-0.000000, expected=0.000000\n",
      "predicted=-0.000000, expected=0.000000\n",
      "predicted=-0.000000, expected=0.000000\n",
      "predicted=0.000000, expected=0.000000\n",
      "predicted=0.000000, expected=0.000000\n",
      "predicted=0.000000, expected=0.000000\n",
      "predicted=-0.000000, expected=0.000000\n",
      "predicted=0.000000, expected=0.000000\n",
      "predicted=-0.000000, expected=0.000000\n",
      "predicted=-0.000000, expected=0.000000\n",
      "predicted=-0.000000, expected=0.000000\n",
      "predicted=0.000000, expected=0.000000\n",
      "predicted=-0.000000, expected=0.000000\n",
      "predicted=-0.000000, expected=0.000000\n",
      "predicted=-0.000000, expected=0.000000\n",
      "predicted=0.000000, expected=0.000000\n",
      "predicted=0.000000, expected=0.000000\n",
      "predicted=-0.000000, expected=0.000000\n",
      "predicted=-0.000000, expected=0.000000\n",
      "predicted=0.000000, expected=0.000000\n",
      "predicted=0.000000, expected=0.000000\n",
      "predicted=0.000000, expected=0.000000\n",
      "predicted=-0.000000, expected=0.000000\n",
      "predicted=0.000000, expected=0.000000\n",
      "predicted=-0.000000, expected=0.000000\n",
      "predicted=0.000000, expected=0.000000\n",
      "predicted=0.000000, expected=0.000000\n",
      "predicted=-0.000000, expected=0.000000\n",
      "predicted=0.000000, expected=0.000000\n",
      "predicted=0.000000, expected=0.000000\n",
      "predicted=-0.000000, expected=0.000000\n",
      "predicted=-0.000000, expected=0.000000\n",
      "predicted=0.000000, expected=0.000000\n",
      "predicted=0.000000, expected=0.000000\n",
      "predicted=-0.000000, expected=0.000000\n",
      "predicted=-0.000000, expected=0.000000\n",
      "predicted=-0.000000, expected=0.000000\n",
      "predicted=0.000000, expected=0.000000\n",
      "predicted=-0.000000, expected=0.000000\n",
      "predicted=0.000000, expected=0.000000\n",
      "predicted=-0.000000, expected=0.000000\n",
      "predicted=-0.000000, expected=0.000000\n",
      "predicted=-0.000000, expected=0.000000\n",
      "predicted=-0.000000, expected=0.000000\n",
      "predicted=-0.000000, expected=0.000000\n",
      "predicted=-0.000000, expected=0.000000\n",
      "predicted=-0.000000, expected=0.000000\n",
      "predicted=0.000000, expected=0.000000\n",
      "predicted=0.000000, expected=0.000000\n",
      "predicted=-0.000000, expected=0.000000\n",
      "predicted=-0.000000, expected=0.000000\n",
      "predicted=-0.000000, expected=0.000000\n",
      "predicted=-0.000000, expected=0.000000\n",
      "predicted=-0.000000, expected=0.000000\n",
      "predicted=0.000000, expected=0.000000\n",
      "predicted=0.000000, expected=0.000000\n",
      "predicted=-0.000000, expected=0.000000\n",
      "predicted=0.000000, expected=0.000000\n",
      "predicted=-0.000000, expected=0.000000\n",
      "predicted=-0.000000, expected=0.000000\n",
      "predicted=-0.000000, expected=0.000000\n",
      "predicted=0.000000, expected=0.000000\n",
      "predicted=-0.000000, expected=0.000000\n",
      "predicted=0.000000, expected=0.000000\n",
      "predicted=0.000000, expected=0.000000\n",
      "predicted=0.000000, expected=0.000000\n",
      "predicted=0.000000, expected=0.000000\n",
      "predicted=-0.000000, expected=0.000000\n",
      "predicted=-0.000000, expected=0.000000\n",
      "predicted=-0.000000, expected=0.000000\n",
      "predicted=0.000000, expected=0.000000\n",
      "predicted=0.000000, expected=0.000000\n",
      "predicted=-0.000000, expected=0.000000\n",
      "predicted=0.000000, expected=0.000000\n",
      "predicted=0.000000, expected=0.000000\n",
      "predicted=0.000000, expected=0.000000\n",
      "predicted=-0.000000, expected=0.000000\n",
      "Test RMSE: 8.802\n"
     ]
    },
    {
     "data": {
      "image/png": "[encoded data removed]",
      "text/plain": [
       "<Figure size 432x288 with 1 Axes>"
      ]
     },
     "metadata": {
      "needs_background": "light"
     },
     "output_type": "display_data"
    }
   ],
   "source": [
    "predictions = list()\n",
    "# walk-forward validation\n",
    "for t in range(len(test)):\n",
    "\tmodel = ARIMA(history, order=(5,1,0))\n",
    "\tmodel_fit = model.fit()\n",
    "\toutput = model_fit.forecast()\n",
    "\tyhat = output[0]\n",
    "\tpredictions.append(yhat)\n",
    "\tobs = test[t]\n",
    "\thistory.append(obs)\n",
    "\tprint('predicted=%f, expected=%f' % (yhat, obs))\n",
    "# evaluate forecasts\n",
    "rmse = np.sqrt(mean_squared_error(test, predictions))\n",
    "print('Test RMSE: %.3f' % rmse)\n",
    "# plot forecasts against actual outcomes\n",
    "plt.plot(test)\n",
    "plt.plot(predictions, color='red')\n",
    "plt.show()"
   ]
  },
  {
   "cell_type": "code",
   "execution_count": null,
   "metadata": {},
   "outputs": [],
   "source": []
  }
 ],
 "metadata": {
  "interpreter": {
   "hash": "8ef3996049425cea9c4deaeb49a3c32400a4551a81cb9ebd7dbf2b8151b13c52"
  },
  "kernelspec": {
   "display_name": "Python 3.8.12 64-bit ('base': conda)",
   "name": "python3"
  },
  "language_info": {
   "codemirror_mode": {
    "name": "ipython",
    "version": 3
   },
   "file_extension": ".py",
   "mimetype": "text/x-python",
   "name": "python",
   "nbconvert_exporter": "python",
   "pygments_lexer": "ipython3",
   "version": "3.8.12"
  }
 },
 "nbformat": 4,
 "nbformat_minor": 0
}
