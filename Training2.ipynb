{
 "cells": [
  {
   "cell_type": "code",
   "execution_count": 15,
   "metadata": {},
   "outputs": [],
   "source": [
    "import numpy as np\n",
    "import pandas as pd\n",
    "import matplotlib.pyplot as plt\n",
    "import os\n",
    "\n",
    "!pip install -q plotnine\n",
    "from plotnine import *\n",
    "\n",
    "import tensorflow as tf\n",
    "from tensorflow import keras\n",
    "\n",
    "import math\n",
    "import keras\n",
    "\n",
    "from sklearn.tree import DecisionTreeRegressor\n",
    "from sklearn.linear_model import LinearRegression, Lasso, Ridge, ElasticNet, ElasticNetCV\n",
    "from sklearn.ensemble import RandomForestRegressor\n",
    "from sklearn.ensemble import ExtraTreesRegressor\n",
    "from sklearn.ensemble import BaggingRegressor\n",
    "from sklearn.ensemble import AdaBoostRegressor\n",
    "\n",
    "from sklearn.model_selection import StratifiedKFold\n",
    "from sklearn.model_selection import train_test_split\n",
    "from sklearn.model_selection import KFold\n",
    "from sklearn.svm import SVC\n",
    "\n",
    "from datetime import datetime\n",
    "import urllib"
   ]
  },
  {
   "cell_type": "markdown",
   "metadata": {},
   "source": [
    "## Get wheather data from URL"
   ]
  },
  {
   "cell_type": "code",
   "execution_count": 16,
   "metadata": {},
   "outputs": [],
   "source": [
    "def get_weather_data(start_year, start_month, start_day, end_year, end_month, end_day):\n",
    "    url = f'https://meteo.physic.ut.ee/et/archive.php?do=data&begin%5Byear%5D={start_year}&begin%5Bmon%5D={start_month}&begin%5Bmday%5D={start_day}&end%5Byear%5D={end_year}&end%5Bmon%5D={end_month}&end%5Bmday%5D={end_day}&9=1&12=1&10=1&15=1&16=1&14=1&ok=+Esita+p%C3%A4ring+'\n",
    "    file = urllib. request. urlopen(url)\n",
    "    lines = []\n",
    "    for line in file:\n",
    "        decoded_line = line.decode(\"utf-8\")\n",
    "        new_line = decoded_line.replace(\" \",\"\").strip()\n",
    "        lines.append(new_line)\n",
    "    with open('data.csv', 'w') as f:\n",
    "        f.write('\\n'.join(lines))\n",
    "    data = pd.read_csv('data.csv')\n",
    "    data.columns = ['timestamp', 'temperature', 'humidity', 'atm_pressure', 'windspeed', 'wind_direction', 'precipitation', 'radiation_flux']\n",
    "    return data"
   ]
  },
  {
   "cell_type": "code",
   "execution_count": 17,
   "metadata": {},
   "outputs": [
    {
     "data": {
      "text/html": [
       "<div>\n",
       "<style scoped>\n",
       "    .dataframe tbody tr th:only-of-type {\n",
       "        vertical-align: middle;\n",
       "    }\n",
       "\n",
       "    .dataframe tbody tr th {\n",
       "        vertical-align: top;\n",
       "    }\n",
       "\n",
       "    .dataframe thead th {\n",
       "        text-align: right;\n",
       "    }\n",
       "</style>\n",
       "<table border=\"1\" class=\"dataframe\">\n",
       "  <thead>\n",
       "    <tr style=\"text-align: right;\">\n",
       "      <th></th>\n",
       "      <th>timestamp</th>\n",
       "      <th>temperature</th>\n",
       "      <th>humidity</th>\n",
       "      <th>atm_pressure</th>\n",
       "      <th>windspeed</th>\n",
       "      <th>wind_direction</th>\n",
       "      <th>precipitation</th>\n",
       "      <th>radiation_flux</th>\n",
       "    </tr>\n",
       "  </thead>\n",
       "  <tbody>\n",
       "    <tr>\n",
       "      <th>42079</th>\n",
       "      <td>2021-04-1717:50:00</td>\n",
       "      <td>16.445986</td>\n",
       "      <td>17.797370</td>\n",
       "      <td>1023.707033</td>\n",
       "      <td>5.460511</td>\n",
       "      <td>51.656338</td>\n",
       "      <td>0.0</td>\n",
       "      <td>205.281128</td>\n",
       "    </tr>\n",
       "    <tr>\n",
       "      <th>85191</th>\n",
       "      <td>2021-09-1410:30:00</td>\n",
       "      <td>10.763913</td>\n",
       "      <td>65.476061</td>\n",
       "      <td>1011.311233</td>\n",
       "      <td>7.096696</td>\n",
       "      <td>297.536053</td>\n",
       "      <td>0.0</td>\n",
       "      <td>273.136588</td>\n",
       "    </tr>\n",
       "    <tr>\n",
       "      <th>87661</th>\n",
       "      <td>2021-09-2300:20:00</td>\n",
       "      <td>5.063063</td>\n",
       "      <td>92.365722</td>\n",
       "      <td>1016.263833</td>\n",
       "      <td>1.859242</td>\n",
       "      <td>0.645392</td>\n",
       "      <td>0.0</td>\n",
       "      <td>0.000000</td>\n",
       "    </tr>\n",
       "    <tr>\n",
       "      <th>78302</th>\n",
       "      <td>2021-08-2112:25:00</td>\n",
       "      <td>17.940612</td>\n",
       "      <td>59.929043</td>\n",
       "      <td>1011.007267</td>\n",
       "      <td>3.515541</td>\n",
       "      <td>253.019791</td>\n",
       "      <td>0.0</td>\n",
       "      <td>721.902367</td>\n",
       "    </tr>\n",
       "    <tr>\n",
       "      <th>73724</th>\n",
       "      <td>2021-08-0514:55:00</td>\n",
       "      <td>19.543360</td>\n",
       "      <td>43.978793</td>\n",
       "      <td>1014.799600</td>\n",
       "      <td>3.318548</td>\n",
       "      <td>83.974961</td>\n",
       "      <td>0.0</td>\n",
       "      <td>178.289834</td>\n",
       "    </tr>\n",
       "    <tr>\n",
       "      <th>17721</th>\n",
       "      <td>2021-01-2303:00:00</td>\n",
       "      <td>1.766247</td>\n",
       "      <td>88.994746</td>\n",
       "      <td>996.132300</td>\n",
       "      <td>3.679681</td>\n",
       "      <td>202.635044</td>\n",
       "      <td>0.0</td>\n",
       "      <td>4.866066</td>\n",
       "    </tr>\n",
       "    <tr>\n",
       "      <th>48754</th>\n",
       "      <td>2021-05-1022:05:00</td>\n",
       "      <td>18.282245</td>\n",
       "      <td>44.212924</td>\n",
       "      <td>1018.874200</td>\n",
       "      <td>1.533341</td>\n",
       "      <td>188.610508</td>\n",
       "      <td>0.0</td>\n",
       "      <td>0.000000</td>\n",
       "    </tr>\n",
       "    <tr>\n",
       "      <th>54622</th>\n",
       "      <td>2021-05-3107:05:00</td>\n",
       "      <td>9.758715</td>\n",
       "      <td>60.190126</td>\n",
       "      <td>1022.987433</td>\n",
       "      <td>0.662936</td>\n",
       "      <td>170.511629</td>\n",
       "      <td>0.0</td>\n",
       "      <td>286.175298</td>\n",
       "    </tr>\n",
       "    <tr>\n",
       "      <th>89773</th>\n",
       "      <td>2021-09-3008:20:00</td>\n",
       "      <td>5.028936</td>\n",
       "      <td>83.054158</td>\n",
       "      <td>1030.890767</td>\n",
       "      <td>4.115406</td>\n",
       "      <td>138.559775</td>\n",
       "      <td>0.0</td>\n",
       "      <td>37.884222</td>\n",
       "    </tr>\n",
       "    <tr>\n",
       "      <th>20349</th>\n",
       "      <td>2021-02-0106:00:00</td>\n",
       "      <td>-4.650378</td>\n",
       "      <td>91.548911</td>\n",
       "      <td>996.650367</td>\n",
       "      <td>4.333895</td>\n",
       "      <td>221.339705</td>\n",
       "      <td>0.0</td>\n",
       "      <td>0.913042</td>\n",
       "    </tr>\n",
       "  </tbody>\n",
       "</table>\n",
       "</div>"
      ],
      "text/plain": [
       "                timestamp  temperature   humidity  atm_pressure  windspeed  \\\n",
       "42079  2021-04-1717:50:00    16.445986  17.797370   1023.707033   5.460511   \n",
       "85191  2021-09-1410:30:00    10.763913  65.476061   1011.311233   7.096696   \n",
       "87661  2021-09-2300:20:00     5.063063  92.365722   1016.263833   1.859242   \n",
       "78302  2021-08-2112:25:00    17.940612  59.929043   1011.007267   3.515541   \n",
       "73724  2021-08-0514:55:00    19.543360  43.978793   1014.799600   3.318548   \n",
       "17721  2021-01-2303:00:00     1.766247  88.994746    996.132300   3.679681   \n",
       "48754  2021-05-1022:05:00    18.282245  44.212924   1018.874200   1.533341   \n",
       "54622  2021-05-3107:05:00     9.758715  60.190126   1022.987433   0.662936   \n",
       "89773  2021-09-3008:20:00     5.028936  83.054158   1030.890767   4.115406   \n",
       "20349  2021-02-0106:00:00    -4.650378  91.548911    996.650367   4.333895   \n",
       "\n",
       "       wind_direction  precipitation  radiation_flux  \n",
       "42079       51.656338            0.0      205.281128  \n",
       "85191      297.536053            0.0      273.136588  \n",
       "87661        0.645392            0.0        0.000000  \n",
       "78302      253.019791            0.0      721.902367  \n",
       "73724       83.974961            0.0      178.289834  \n",
       "17721      202.635044            0.0        4.866066  \n",
       "48754      188.610508            0.0        0.000000  \n",
       "54622      170.511629            0.0      286.175298  \n",
       "89773      138.559775            0.0       37.884222  \n",
       "20349      221.339705            0.0        0.913042  "
      ]
     },
     "execution_count": 17,
     "metadata": {},
     "output_type": "execute_result"
    }
   ],
   "source": [
    "data = get_weather_data(2020,12,1,2021,11,30)\n",
    "data.sample(10)"
   ]
  },
  {
   "cell_type": "code",
   "execution_count": 18,
   "metadata": {},
   "outputs": [],
   "source": [
    "def break_up_time(data):\n",
    "    data[\"year\"]= data.apply(lambda row: row[\"timestamp\"][0:4], axis=1)\n",
    "    data[\"month\"] = data.apply(lambda row: row[\"timestamp\"][5:7], axis=1)\n",
    "    data[\"day\"] = data.apply(lambda row: row[\"timestamp\"][8:10], axis=1)\n",
    "    data[\"hour\"] = data.apply(lambda row: row[\"timestamp\"][10:12], axis=1)\n",
    "    data[\"minute\"] = data.apply(lambda row: row[\"timestamp\"][13:15], axis=1)\n",
    "    data.year = data.year.astype('int')\n",
    "    data.month = data.month.astype('int')\n",
    "    data.day = data.day.astype('int')\n",
    "    data.hour = data.hour.astype('int')\n",
    "    data.minute = data.minute.astype('int')\n",
    "    data[\"timestamp\"] = data.apply(lambda row: datetime.strptime(row[\"timestamp\"],\"%Y-%m-%d%H:%M:%S\"), axis=1)\n",
    "    return data\n",
    "\n",
    "def fill_and_correct(data):\n",
    "    # if there is no rain and no snow:\n",
    "    #data['snow'] = data['snow'].fillna(0)\n",
    "    data['precipitation'] = data['precipitation'].fillna(0)\n",
    "    # for other \n",
    "    data['windspeed'] = data['windspeed'].fillna(method='backfill')\n",
    "    data['wind_direction'] = data['wind_direction'].fillna(method='backfill')\n",
    "    data['temperature'] = data['temperature'].fillna(method='backfill')\n",
    "    data['humidity'] = data['humidity'].fillna(method='backfill')\n",
    "    data['atm_pressure'] = data['atm_pressure'].fillna(method='backfill')\n",
    "    data['radiation_flux'] = data['radiation_flux'].fillna(method='backfill')\n",
    "    data['radiation_in_future'] = data['radiation_flux'].shift(-24)\n",
    "    data = data.dropna()\n",
    "    return data\n",
    "\n",
    "def cleansing(data):\n",
    "    data = break_up_time(data)\n",
    "    data = fill_and_correct(data)\n",
    "    return data"
   ]
  },
  {
   "cell_type": "code",
   "execution_count": 19,
   "metadata": {},
   "outputs": [
    {
     "data": {
      "text/html": [
       "<div>\n",
       "<style scoped>\n",
       "    .dataframe tbody tr th:only-of-type {\n",
       "        vertical-align: middle;\n",
       "    }\n",
       "\n",
       "    .dataframe tbody tr th {\n",
       "        vertical-align: top;\n",
       "    }\n",
       "\n",
       "    .dataframe thead th {\n",
       "        text-align: right;\n",
       "    }\n",
       "</style>\n",
       "<table border=\"1\" class=\"dataframe\">\n",
       "  <thead>\n",
       "    <tr style=\"text-align: right;\">\n",
       "      <th></th>\n",
       "      <th>timestamp</th>\n",
       "      <th>temperature</th>\n",
       "      <th>humidity</th>\n",
       "      <th>atm_pressure</th>\n",
       "      <th>windspeed</th>\n",
       "      <th>wind_direction</th>\n",
       "      <th>precipitation</th>\n",
       "      <th>radiation_flux</th>\n",
       "      <th>year</th>\n",
       "      <th>month</th>\n",
       "      <th>day</th>\n",
       "      <th>hour</th>\n",
       "      <th>minute</th>\n",
       "      <th>radiation_in_future</th>\n",
       "    </tr>\n",
       "  </thead>\n",
       "  <tbody>\n",
       "    <tr>\n",
       "      <th>24967</th>\n",
       "      <td>2021-02-17 06:50:00</td>\n",
       "      <td>-10.716550</td>\n",
       "      <td>81.590764</td>\n",
       "      <td>1019.218433</td>\n",
       "      <td>3.472478</td>\n",
       "      <td>71.180718</td>\n",
       "      <td>0.0</td>\n",
       "      <td>4.840634</td>\n",
       "      <td>2021</td>\n",
       "      <td>2</td>\n",
       "      <td>17</td>\n",
       "      <td>6</td>\n",
       "      <td>50</td>\n",
       "      <td>60.110891</td>\n",
       "    </tr>\n",
       "    <tr>\n",
       "      <th>1455</th>\n",
       "      <td>2020-12-06 01:15:00</td>\n",
       "      <td>2.231117</td>\n",
       "      <td>87.601286</td>\n",
       "      <td>1020.911667</td>\n",
       "      <td>4.434881</td>\n",
       "      <td>196.908714</td>\n",
       "      <td>0.0</td>\n",
       "      <td>0.277078</td>\n",
       "      <td>2020</td>\n",
       "      <td>12</td>\n",
       "      <td>6</td>\n",
       "      <td>1</td>\n",
       "      <td>15</td>\n",
       "      <td>0.338554</td>\n",
       "    </tr>\n",
       "    <tr>\n",
       "      <th>55769</th>\n",
       "      <td>2021-06-04 06:40:00</td>\n",
       "      <td>12.711627</td>\n",
       "      <td>80.669081</td>\n",
       "      <td>1026.744500</td>\n",
       "      <td>1.311531</td>\n",
       "      <td>293.208294</td>\n",
       "      <td>0.0</td>\n",
       "      <td>87.029119</td>\n",
       "      <td>2021</td>\n",
       "      <td>6</td>\n",
       "      <td>4</td>\n",
       "      <td>6</td>\n",
       "      <td>40</td>\n",
       "      <td>247.547243</td>\n",
       "    </tr>\n",
       "    <tr>\n",
       "      <th>77512</th>\n",
       "      <td>2021-08-18 18:35:00</td>\n",
       "      <td>16.035082</td>\n",
       "      <td>81.053379</td>\n",
       "      <td>1000.938967</td>\n",
       "      <td>6.143024</td>\n",
       "      <td>203.238421</td>\n",
       "      <td>0.0</td>\n",
       "      <td>66.733965</td>\n",
       "      <td>2021</td>\n",
       "      <td>8</td>\n",
       "      <td>18</td>\n",
       "      <td>18</td>\n",
       "      <td>35</td>\n",
       "      <td>2.890433</td>\n",
       "    </tr>\n",
       "    <tr>\n",
       "      <th>20597</th>\n",
       "      <td>2021-02-02 02:40:00</td>\n",
       "      <td>-4.713614</td>\n",
       "      <td>86.053126</td>\n",
       "      <td>1007.413667</td>\n",
       "      <td>3.444037</td>\n",
       "      <td>222.765528</td>\n",
       "      <td>0.0</td>\n",
       "      <td>0.783095</td>\n",
       "      <td>2021</td>\n",
       "      <td>2</td>\n",
       "      <td>2</td>\n",
       "      <td>2</td>\n",
       "      <td>40</td>\n",
       "      <td>4.853537</td>\n",
       "    </tr>\n",
       "  </tbody>\n",
       "</table>\n",
       "</div>"
      ],
      "text/plain": [
       "                timestamp  temperature   humidity  atm_pressure  windspeed  \\\n",
       "24967 2021-02-17 06:50:00   -10.716550  81.590764   1019.218433   3.472478   \n",
       "1455  2020-12-06 01:15:00     2.231117  87.601286   1020.911667   4.434881   \n",
       "55769 2021-06-04 06:40:00    12.711627  80.669081   1026.744500   1.311531   \n",
       "77512 2021-08-18 18:35:00    16.035082  81.053379   1000.938967   6.143024   \n",
       "20597 2021-02-02 02:40:00    -4.713614  86.053126   1007.413667   3.444037   \n",
       "\n",
       "       wind_direction  precipitation  radiation_flux  year  month  day  hour  \\\n",
       "24967       71.180718            0.0        4.840634  2021      2   17     6   \n",
       "1455       196.908714            0.0        0.277078  2020     12    6     1   \n",
       "55769      293.208294            0.0       87.029119  2021      6    4     6   \n",
       "77512      203.238421            0.0       66.733965  2021      8   18    18   \n",
       "20597      222.765528            0.0        0.783095  2021      2    2     2   \n",
       "\n",
       "       minute  radiation_in_future  \n",
       "24967      50            60.110891  \n",
       "1455       15             0.338554  \n",
       "55769      40           247.547243  \n",
       "77512      35             2.890433  \n",
       "20597      40             4.853537  "
      ]
     },
     "execution_count": 19,
     "metadata": {},
     "output_type": "execute_result"
    }
   ],
   "source": [
    "data = cleansing(data)\n",
    "data.sample(5)"
   ]
  },
  {
   "cell_type": "code",
   "execution_count": 20,
   "metadata": {},
   "outputs": [
    {
     "data": {
      "text/plain": [
       "timestamp              datetime64[ns]\n",
       "temperature                   float64\n",
       "humidity                      float64\n",
       "atm_pressure                  float64\n",
       "windspeed                     float64\n",
       "wind_direction                float64\n",
       "precipitation                 float64\n",
       "radiation_flux                float64\n",
       "year                            int64\n",
       "month                           int64\n",
       "day                             int64\n",
       "hour                            int64\n",
       "minute                          int64\n",
       "radiation_in_future           float64\n",
       "dtype: object"
      ]
     },
     "execution_count": 20,
     "metadata": {},
     "output_type": "execute_result"
    }
   ],
   "source": [
    "data.dtypes"
   ]
  },
  {
   "cell_type": "code",
   "execution_count": 21,
   "metadata": {},
   "outputs": [
    {
     "data": {
      "text/plain": [
       "timestamp              0\n",
       "temperature            0\n",
       "humidity               0\n",
       "atm_pressure           0\n",
       "windspeed              0\n",
       "wind_direction         0\n",
       "precipitation          0\n",
       "radiation_flux         0\n",
       "year                   0\n",
       "month                  0\n",
       "day                    0\n",
       "hour                   0\n",
       "minute                 0\n",
       "radiation_in_future    0\n",
       "dtype: int64"
      ]
     },
     "execution_count": 21,
     "metadata": {},
     "output_type": "execute_result"
    }
   ],
   "source": [
    "data.isnull().sum()"
   ]
  },
  {
   "cell_type": "markdown",
   "metadata": {},
   "source": [
    "plt.figure(figsize=(8, 12))\n",
    "\n",
    "heatmap = sns.heatmap(corr_table, vmin=-1, vmax=1, annot=True, cmap='BrBG')\n",
    "\n",
    "heatmap.set_title('Solar Irradiation Correlation, Tartu (2013-2021)', fontdict={'fontsize':18}, pad=25)\n",
    "plt.tight_layout()\n",
    "plt.savefig('corr.png', dpi=300)"
   ]
  },
  {
   "cell_type": "markdown",
   "metadata": {},
   "source": [
    "# Training, validation, predicting"
   ]
  },
  {
   "cell_type": "markdown",
   "metadata": {},
   "source": [
    "Split the data into test and training data:"
   ]
  },
  {
   "cell_type": "code",
   "execution_count": null,
   "metadata": {},
   "outputs": [],
   "source": [
    "X = data[['year', 'month', 'day', 'hour', 'minute', 'temperature',\n",
    "         'humidity', 'atmospheric_pressure', 'wind_speed', 'wind_direction',\n",
    "         'precipitation', 'radiation_flux']] # 'snow'\n",
    "y = data['rad_flux_infuture']\n",
    "\n",
    "X_train, X_test, y_train, y_test = train_test_split(X, y, test_size=0.33, random_state=42)"
   ]
  },
  {
   "cell_type": "code",
   "execution_count": null,
   "metadata": {},
   "outputs": [],
   "source": [
    "print('X ',X.shape,', X_train ',X_train.shape,', X_test ',X_test.shape)\n",
    "print('y ',y.shape,', y_train ',y_train.shape,', y_test ',y_test.shape) "
   ]
  },
  {
   "cell_type": "code",
   "execution_count": null,
   "metadata": {},
   "outputs": [],
   "source": [
    "\n",
    "RFR = RandomForestRegressor(n_estimators=20,random_state=0)\n",
    "RFR.fit(X_train,y_train)\n"
   ]
  },
  {
   "cell_type": "code",
   "execution_count": null,
   "metadata": {},
   "outputs": [],
   "source": [
    "RFR.score(X_test,y_test)"
   ]
  },
  {
   "cell_type": "code",
   "execution_count": null,
   "metadata": {},
   "outputs": [],
   "source": [
    "y_pred = RFR.predict(X_test)"
   ]
  },
  {
   "cell_type": "code",
   "execution_count": null,
   "metadata": {},
   "outputs": [],
   "source": [
    "plt.figure(figsize=(16,9))\n",
    "plt.plot(np.arange(X_test.shape[0]),y_test)\n",
    "plt.plot(np.arange(X_test.shape[0]),y_pred,'-',alpha=0.6)\n",
    "plt.show()\n"
   ]
  },
  {
   "cell_type": "code",
   "execution_count": null,
   "metadata": {},
   "outputs": [],
   "source": [
    "training_data = data[data.year<2021]\n",
    "test_data = data[data.year==2021]\n",
    "X_train = training_data[['year', 'month', 'day', 'hour', 'minute', 'temperature',\n",
    "         'humidity', 'atmospheric_pressure', 'wind_speed', 'wind_direction',\n",
    "         'precipitation', 'radiation_flux']]\n",
    "y_train = training_data['rad_flux_infuture']\n",
    "X_test = test_data[['year', 'month', 'day', 'hour', 'minute', 'temperature',\n",
    "         'humidity', 'atmospheric_pressure', 'wind_speed', 'wind_direction',\n",
    "         'precipitation', 'radiation_flux']]\n",
    "y_test = test_data['rad_flux_infuture']"
   ]
  },
  {
   "cell_type": "code",
   "execution_count": null,
   "metadata": {},
   "outputs": [],
   "source": [
    "RFR = RandomForestRegressor(n_estimators=20,random_state=0)\n",
    "RFR.fit(X_train,y_train)"
   ]
  },
  {
   "cell_type": "code",
   "execution_count": null,
   "metadata": {},
   "outputs": [],
   "source": [
    "RFR.score(X_test,y_test)"
   ]
  },
  {
   "cell_type": "code",
   "execution_count": null,
   "metadata": {},
   "outputs": [],
   "source": [
    "y_pred=RFR.predict(X_test)"
   ]
  },
  {
   "cell_type": "code",
   "execution_count": null,
   "metadata": {},
   "outputs": [],
   "source": [
    "plt.figure(figsize=(16,9))\n",
    "plt.plot(np.arange(X_test.shape[0]),y_test)\n",
    "plt.plot(np.arange(X_test.shape[0]),y_pred,'-',alpha=0.6)\n",
    "plt.show()\n"
   ]
  },
  {
   "cell_type": "code",
   "execution_count": null,
   "metadata": {},
   "outputs": [],
   "source": [
    "ERR = ExtraTreesRegressor()\n",
    "ERR.fit(X_train,y_train)"
   ]
  },
  {
   "cell_type": "code",
   "execution_count": null,
   "metadata": {},
   "outputs": [],
   "source": [
    "ERR.score(X_test,y_test)"
   ]
  },
  {
   "cell_type": "code",
   "execution_count": null,
   "metadata": {},
   "outputs": [],
   "source": [
    "y_pred = ERR.predict(X_test)"
   ]
  },
  {
   "cell_type": "code",
   "execution_count": null,
   "metadata": {},
   "outputs": [],
   "source": [
    "plt.figure(figsize=(16,9))\n",
    "plt.plot(np.arange(X_test.shape[0]),y_test,label=\"True\")\n",
    "plt.plot(np.arange(X_test.shape[0]),y_pred,'-',alpha=0.6,label=\"Prediction\")\n",
    "plt.legend()\n",
    "plt.title(\"2021\")\n",
    "plt.show()"
   ]
  },
  {
   "cell_type": "code",
   "execution_count": null,
   "metadata": {},
   "outputs": [],
   "source": [
    "LinR = LinearRegression()\n",
    "LinR.fit(X_train,y_train)\n",
    "LinR.score(X_test,y_test)"
   ]
  },
  {
   "cell_type": "code",
   "execution_count": null,
   "metadata": {},
   "outputs": [],
   "source": [
    "LR = Ridge()\n",
    "LR.fit(X_train,y_train)\n",
    "LR.score(X_test,y_test)"
   ]
  },
  {
   "cell_type": "code",
   "execution_count": null,
   "metadata": {},
   "outputs": [],
   "source": [
    "LL = Lasso()\n",
    "LL.fit(X_train,y_train)\n",
    "LL.score(X_test,y_test)"
   ]
  },
  {
   "cell_type": "code",
   "execution_count": null,
   "metadata": {},
   "outputs": [],
   "source": [
    "E = ElasticNet()\n",
    "E.fit(X_train,y_train)\n",
    "E.score(X_test,y_test)"
   ]
  },
  {
   "cell_type": "markdown",
   "metadata": {},
   "source": [
    "# PCA"
   ]
  },
  {
   "cell_type": "code",
   "execution_count": null,
   "metadata": {},
   "outputs": [],
   "source": [
    "from sklearn.decomposition import PCA"
   ]
  },
  {
   "cell_type": "code",
   "execution_count": null,
   "metadata": {},
   "outputs": [],
   "source": [
    "pca=PCA(n_components=0.9)\n",
    "pca.fit(X_train)\n",
    "X_train_compressed = pca.transform(X_train)\n",
    "X_test_compressed = pca.transform(X_test)"
   ]
  },
  {
   "cell_type": "code",
   "execution_count": null,
   "metadata": {},
   "outputs": [],
   "source": [
    "X_train_compressed.shape"
   ]
  },
  {
   "cell_type": "code",
   "execution_count": null,
   "metadata": {},
   "outputs": [],
   "source": [
    "RF = RandomForestRegressor()\n",
    "RF.fit(X_train_compressed,y_train)\n",
    "RF.score(X_test_compressed,y_test)"
   ]
  },
  {
   "cell_type": "markdown",
   "metadata": {},
   "source": [
    "Worse!!!"
   ]
  },
  {
   "cell_type": "markdown",
   "metadata": {},
   "source": [
    "# XGBoost"
   ]
  },
  {
   "cell_type": "code",
   "execution_count": null,
   "metadata": {},
   "outputs": [],
   "source": [
    "!pip install xgboost"
   ]
  },
  {
   "cell_type": "code",
   "execution_count": null,
   "metadata": {},
   "outputs": [],
   "source": [
    "import xgboost as xgb\n",
    "\n",
    "\n",
    "# XGBoosts wants data to be wrapped into special formats\n",
    "dtrain = xgb.DMatrix(X_train,y_train)\n",
    "dtest = xgb.DMatrix(X_test,y_test)\n",
    "\n",
    "# most meaningful parameters\n",
    "param_list = [(\"objective\", \"multi:softmax\"), (\"eval_metric\", \"merror\"), (\"num_class\", 10)]\n",
    "\n",
    "# Number of trees\n",
    "n_rounds = 600\n",
    "\n",
    "# if nothing seems to improve for 50 iterations - stop\n",
    "early_stopping = 50\n",
    "\n",
    "# train for training and test for ... validation!    \n",
    "eval_list = [(dtrain, \"train\"), (dtest, \"validation\")]\n",
    "\n",
    "# 1,2,3.. go!\n",
    "bst = xgb.train(param_list, dtrain, n_rounds, evals=eval_list, early_stopping_rounds=early_stopping, verbose_eval=True)\n"
   ]
  },
  {
   "cell_type": "code",
   "execution_count": null,
   "metadata": {},
   "outputs": [],
   "source": [
    "ypred = bst.predict(dtest) #, iteration_range=(0, bst.best_iteration + 1)) # this iteration_range do not work, but was in the documentation page.. weird\n",
    "ypred.shape\n",
    "print(f'Accuracy of XGBoost is {(np.sum(ypred==test_labels)/test_labels.shape[0])*100}%')"
   ]
  }
 ],
 "metadata": {
  "interpreter": {
   "hash": "34368ba4908ea1be08ba769dfb7764ab7f8ead2384ebb5604cb86637573696f7"
  },
  "kernelspec": {
   "display_name": "Python 3.8.12 64-bit (conda)",
   "language": "python",
   "name": "python3"
  },
  "language_info": {
   "codemirror_mode": {
    "name": "ipython",
    "version": 3
   },
   "file_extension": ".py",
   "mimetype": "text/x-python",
   "name": "python",
   "nbconvert_exporter": "python",
   "pygments_lexer": "ipython3",
   "version": "3.8.12"
  },
  "orig_nbformat": 4
 },
 "nbformat": 4,
 "nbformat_minor": 2
}
