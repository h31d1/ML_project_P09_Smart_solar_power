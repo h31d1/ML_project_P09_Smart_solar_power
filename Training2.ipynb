{
 "cells": [
  {
   "cell_type": "code",
   "execution_count": 2,
   "metadata": {},
   "outputs": [
    {
     "name": "stdout",
     "output_type": "stream",
     "text": [
      "Note: you may need to restart the kernel to use updated packages.\n"
     ]
    }
   ],
   "source": [
    "import numpy as np\n",
    "import pandas as pd\n",
    "import matplotlib.pyplot as plt\n",
    "import os\n",
    "\n",
    "%pip install -q plotnine\n",
    "from plotnine import *\n",
    "\n",
    "import tensorflow as tf\n",
    "from tensorflow import keras\n",
    "\n",
    "import math\n",
    "import keras\n",
    "\n",
    "from sklearn.tree import DecisionTreeRegressor\n",
    "from sklearn.linear_model import LinearRegression, Lasso, Ridge, ElasticNet, ElasticNetCV\n",
    "from sklearn.ensemble import RandomForestRegressor\n",
    "from sklearn.ensemble import ExtraTreesRegressor\n",
    "from sklearn.ensemble import BaggingRegressor\n",
    "from sklearn.ensemble import AdaBoostRegressor\n",
    "\n",
    "from sklearn.model_selection import StratifiedKFold\n",
    "from sklearn.model_selection import train_test_split\n",
    "from sklearn.model_selection import KFold\n",
    "from sklearn.svm import SVC\n",
    "from sklearn.metrics import mean_squared_error\n",
    "\n",
    "from datetime import datetime\n",
    "import urllib\n",
    "\n",
    "import seaborn as sns"
   ]
  },
  {
   "cell_type": "markdown",
   "metadata": {},
   "source": [
    "## Get wheather data from URL"
   ]
  },
  {
   "cell_type": "code",
   "execution_count": 3,
   "metadata": {},
   "outputs": [],
   "source": [
    "def get_weather_data(start_year, start_month, start_day, end_year, end_month, end_day):\n",
    "    url = f'https://meteo.physic.ut.ee/et/archive.php?do=data&begin%5Byear%5D={start_year}&begin%5Bmon%5D={start_month}&begin%5Bmday%5D={start_day}&end%5Byear%5D={end_year}&end%5Bmon%5D={end_month}&end%5Bmday%5D={end_day}&9=1&12=1&10=1&15=1&16=1&14=1&ok=+Esita+p%C3%A4ring+'\n",
    "    file = urllib. request. urlopen(url)\n",
    "    lines = []\n",
    "    for line in file:\n",
    "        decoded_line = line.decode(\"utf-8\")\n",
    "        new_line = decoded_line.replace(\" \",\"\").strip()\n",
    "        lines.append(new_line)\n",
    "    with open('data.csv', 'w') as f:\n",
    "        f.write('\\n'.join(lines))\n",
    "    data = pd.read_csv('data.csv')\n",
    "    data.columns = ['timestamp', 'temperature', 'humidity', 'atm_pressure', 'windspeed', 'wind_direction', 'precipitation', 'radiation_flux']\n",
    "    return data"
   ]
  },
  {
   "cell_type": "code",
   "execution_count": 4,
   "metadata": {},
   "outputs": [],
   "source": [
    "def break_up_time(data):\n",
    "    data[\"year\"]= data.apply(lambda row: row[\"timestamp\"][0:4], axis=1)\n",
    "    data[\"month\"] = data.apply(lambda row: row[\"timestamp\"][5:7], axis=1)\n",
    "    data[\"day\"] = data.apply(lambda row: row[\"timestamp\"][8:10], axis=1)\n",
    "    data[\"hour\"] = data.apply(lambda row: row[\"timestamp\"][10:12], axis=1)\n",
    "    data[\"minute\"] = data.apply(lambda row: row[\"timestamp\"][13:15], axis=1)\n",
    "    data.year = data.year.astype('int')\n",
    "    data.month = data.month.astype('int')\n",
    "    data.day = data.day.astype('int')\n",
    "    data.hour = data.hour.astype('int')\n",
    "    data.minute = data.minute.astype('int')\n",
    "    data[\"timestamp\"] = data.apply(lambda row: datetime.strptime(row[\"timestamp\"],\"%Y-%m-%d%H:%M:%S\"), axis=1)\n",
    "    return data\n",
    "\n",
    "def fill_and_correct(data):\n",
    "    # if there is no rain and no snow:\n",
    "    #data['snow'] = data['snow'].fillna(0)\n",
    "    data['precipitation'] = data['precipitation'].fillna(0)\n",
    "    # for other \n",
    "    data['windspeed'] = data['windspeed'].fillna(method='backfill')\n",
    "    data['wind_direction'] = data['wind_direction'].fillna(method='backfill')\n",
    "    data['temperature'] = data['temperature'].fillna(method='backfill')\n",
    "    data['humidity'] = data['humidity'].fillna(method='backfill')\n",
    "    data['atm_pressure'] = data['atm_pressure'].fillna(method='backfill')\n",
    "    data['radiation_flux'] = data['radiation_flux'].fillna(method='backfill')\n",
    "    data = data.dropna()\n",
    "    return data\n",
    "\n",
    "def cleansing(data):\n",
    "    data = break_up_time(data)\n",
    "    data = fill_and_correct(data)\n",
    "    return data"
   ]
  },
  {
   "cell_type": "code",
   "execution_count": 5,
   "metadata": {},
   "outputs": [
    {
     "data": {
      "text/html": [
       "<div>\n",
       "<style scoped>\n",
       "    .dataframe tbody tr th:only-of-type {\n",
       "        vertical-align: middle;\n",
       "    }\n",
       "\n",
       "    .dataframe tbody tr th {\n",
       "        vertical-align: top;\n",
       "    }\n",
       "\n",
       "    .dataframe thead th {\n",
       "        text-align: right;\n",
       "    }\n",
       "</style>\n",
       "<table border=\"1\" class=\"dataframe\">\n",
       "  <thead>\n",
       "    <tr style=\"text-align: right;\">\n",
       "      <th></th>\n",
       "      <th>timestamp</th>\n",
       "      <th>temperature</th>\n",
       "      <th>humidity</th>\n",
       "      <th>atm_pressure</th>\n",
       "      <th>windspeed</th>\n",
       "      <th>wind_direction</th>\n",
       "      <th>precipitation</th>\n",
       "      <th>radiation_flux</th>\n",
       "      <th>year</th>\n",
       "      <th>month</th>\n",
       "      <th>day</th>\n",
       "      <th>hour</th>\n",
       "      <th>minute</th>\n",
       "    </tr>\n",
       "  </thead>\n",
       "  <tbody>\n",
       "    <tr>\n",
       "      <th>11200</th>\n",
       "      <td>2020-12-31 11:35:00</td>\n",
       "      <td>0.589861</td>\n",
       "      <td>99.404144</td>\n",
       "      <td>1006.340200</td>\n",
       "      <td>1.148263</td>\n",
       "      <td>189.590526</td>\n",
       "      <td>0.0</td>\n",
       "      <td>25.857785</td>\n",
       "      <td>2020</td>\n",
       "      <td>12</td>\n",
       "      <td>31</td>\n",
       "      <td>11</td>\n",
       "      <td>35</td>\n",
       "    </tr>\n",
       "    <tr>\n",
       "      <th>45879</th>\n",
       "      <td>2021-04-30 22:30:00</td>\n",
       "      <td>5.056818</td>\n",
       "      <td>44.656159</td>\n",
       "      <td>1007.696633</td>\n",
       "      <td>2.329121</td>\n",
       "      <td>290.571137</td>\n",
       "      <td>0.0</td>\n",
       "      <td>0.109044</td>\n",
       "      <td>2021</td>\n",
       "      <td>4</td>\n",
       "      <td>30</td>\n",
       "      <td>22</td>\n",
       "      <td>30</td>\n",
       "    </tr>\n",
       "    <tr>\n",
       "      <th>49632</th>\n",
       "      <td>2021-05-13 23:15:00</td>\n",
       "      <td>15.510971</td>\n",
       "      <td>54.354724</td>\n",
       "      <td>1008.428533</td>\n",
       "      <td>2.812515</td>\n",
       "      <td>130.441778</td>\n",
       "      <td>0.0</td>\n",
       "      <td>0.000000</td>\n",
       "      <td>2021</td>\n",
       "      <td>5</td>\n",
       "      <td>13</td>\n",
       "      <td>23</td>\n",
       "      <td>15</td>\n",
       "    </tr>\n",
       "    <tr>\n",
       "      <th>48985</th>\n",
       "      <td>2021-05-11 17:20:00</td>\n",
       "      <td>24.262732</td>\n",
       "      <td>25.541340</td>\n",
       "      <td>1019.094633</td>\n",
       "      <td>5.631109</td>\n",
       "      <td>206.728219</td>\n",
       "      <td>0.0</td>\n",
       "      <td>474.787621</td>\n",
       "      <td>2021</td>\n",
       "      <td>5</td>\n",
       "      <td>11</td>\n",
       "      <td>17</td>\n",
       "      <td>20</td>\n",
       "    </tr>\n",
       "    <tr>\n",
       "      <th>18336</th>\n",
       "      <td>2021-01-25 06:15:00</td>\n",
       "      <td>1.666788</td>\n",
       "      <td>94.902263</td>\n",
       "      <td>994.229800</td>\n",
       "      <td>2.787307</td>\n",
       "      <td>197.301970</td>\n",
       "      <td>0.0</td>\n",
       "      <td>0.240661</td>\n",
       "      <td>2021</td>\n",
       "      <td>1</td>\n",
       "      <td>25</td>\n",
       "      <td>6</td>\n",
       "      <td>15</td>\n",
       "    </tr>\n",
       "  </tbody>\n",
       "</table>\n",
       "</div>"
      ],
      "text/plain": [
       "                timestamp  temperature   humidity  atm_pressure  windspeed  \\\n",
       "11200 2020-12-31 11:35:00     0.589861  99.404144   1006.340200   1.148263   \n",
       "45879 2021-04-30 22:30:00     5.056818  44.656159   1007.696633   2.329121   \n",
       "49632 2021-05-13 23:15:00    15.510971  54.354724   1008.428533   2.812515   \n",
       "48985 2021-05-11 17:20:00    24.262732  25.541340   1019.094633   5.631109   \n",
       "18336 2021-01-25 06:15:00     1.666788  94.902263    994.229800   2.787307   \n",
       "\n",
       "       wind_direction  precipitation  radiation_flux  year  month  day  hour  \\\n",
       "11200      189.590526            0.0       25.857785  2020     12   31    11   \n",
       "45879      290.571137            0.0        0.109044  2021      4   30    22   \n",
       "49632      130.441778            0.0        0.000000  2021      5   13    23   \n",
       "48985      206.728219            0.0      474.787621  2021      5   11    17   \n",
       "18336      197.301970            0.0        0.240661  2021      1   25     6   \n",
       "\n",
       "       minute  \n",
       "11200      35  \n",
       "45879      30  \n",
       "49632      15  \n",
       "48985      20  \n",
       "18336      15  "
      ]
     },
     "execution_count": 5,
     "metadata": {},
     "output_type": "execute_result"
    }
   ],
   "source": [
    "data = get_weather_data(2020,12,1,2021,11,30)\n",
    "data = cleansing(data)\n",
    "data.sample(5)"
   ]
  },
  {
   "cell_type": "code",
   "execution_count": 6,
   "metadata": {},
   "outputs": [
    {
     "data": {
      "image/png": "[encoded data removed]",
      "text/plain": [
       "<Figure size 432x288 with 1 Axes>"
      ]
     },
     "metadata": {
      "needs_background": "light"
     },
     "output_type": "display_data"
    }
   ],
   "source": [
    "plt.plot(data.timestamp,data.radiation_flux)\n",
    "plt.show()"
   ]
  },
  {
   "cell_type": "code",
   "execution_count": 7,
   "metadata": {},
   "outputs": [
    {
     "data": {
      "image/png": "[encoded data removed]",
      "text/plain": [
       "<Figure size 576x864 with 2 Axes>"
      ]
     },
     "metadata": {
      "needs_background": "light"
     },
     "output_type": "display_data"
    }
   ],
   "source": [
    "corr_table = data.corr()[['radiation_flux']].sort_values(by='radiation_flux', ascending=False)\n",
    "\n",
    "plt.figure(figsize=(8, 12))\n",
    "heatmap = sns.heatmap(corr_table, vmin=-1, vmax=1, annot=True, cmap='BrBG')\n",
    "heatmap.set_title('Solar Irradiation Correlation, Tartu (2020.12.01-2021.11.30)', fontdict={'fontsize':18}, pad=25)\n",
    "plt.tight_layout()\n",
    "plt.savefig('corr.png', dpi=300)"
   ]
  },
  {
   "cell_type": "code",
   "execution_count": 8,
   "metadata": {},
   "outputs": [],
   "source": [
    "def add_shifted_col(data,col,i):\n",
    "    data[f'{col}_{i}'] = data[col].shift(-i)\n",
    "    return data"
   ]
  },
  {
   "cell_type": "markdown",
   "metadata": {},
   "source": [
    "# Training, validation, predicting"
   ]
  },
  {
   "cell_type": "code",
   "execution_count": 9,
   "metadata": {},
   "outputs": [],
   "source": [
    "def train(train_data,columns,time,model):\n",
    "    i = round(time/5)\n",
    "    train_data = add_shifted_col(train_data,\"radiation_flux\",i)\n",
    "    train_data = train_data.dropna()\n",
    "    X_train = train_data[columns]\n",
    "    y_train = train_data[f\"radiation_flux_{i}\"]\n",
    "    model.fit(X_train,y_train)\n",
    "\n",
    "def test(test_data,columns,time,model):\n",
    "    i = round(time/5)\n",
    "    test_data = add_shifted_col(test_data,\"radiation_flux\",i)\n",
    "    test_data = test_data.dropna()\n",
    "    X_test = test_data[columns]\n",
    "    y_test = test_data[f\"radiation_flux_{i}\"]\n",
    "    s = model.score(X_test,y_test)\n",
    "    return s"
   ]
  },
  {
   "cell_type": "code",
   "execution_count": 10,
   "metadata": {},
   "outputs": [],
   "source": [
    "train_data = get_weather_data(2018,1,1,2021,11,30)\n",
    "train_data = cleansing(train_data)\n",
    "test_data = get_weather_data(2021,12,1,2021,12,10)\n",
    "test_data = cleansing(test_data)"
   ]
  },
  {
   "cell_type": "code",
   "execution_count": 11,
   "metadata": {},
   "outputs": [],
   "source": [
    "columns = ['year', 'month', 'day', 'hour', 'minute', # 'temperature',\n",
    "        'humidity', 'atm_pressure', 'windspeed', 'wind_direction',\n",
    "        'precipitation','radiation_flux'] # "
   ]
  },
  {
   "cell_type": "code",
   "execution_count": 35,
   "metadata": {},
   "outputs": [],
   "source": [
    "time = 30 # how many minutes we would like to predict?\n",
    "i = round(time/5)\n",
    "train_data = add_shifted_col(train_data,\"radiation_flux\",i)\n",
    "train_data = train_data.dropna()\n",
    "X_train = train_data[columns]\n",
    "y_train = train_data[f\"radiation_flux_{i}\"]\n",
    "test_data = add_shifted_col(test_data,\"radiation_flux\",i)\n",
    "test_data = test_data.dropna()\n",
    "X_test = test_data[columns]\n",
    "y_test = test_data[f\"radiation_flux_{i}\"]"
   ]
  },
  {
   "cell_type": "code",
   "execution_count": 13,
   "metadata": {},
   "outputs": [
    {
     "data": {
      "text/plain": [
       "0.8670319374343493"
      ]
     },
     "execution_count": 13,
     "metadata": {},
     "output_type": "execute_result"
    }
   ],
   "source": [
    "RFR = RandomForestRegressor(n_estimators=50,random_state=0)\n",
    "RFR.fit(X_train,y_train)\n",
    "y_pred_RFR = RFR.predict(X_test)\n",
    "RFR.score(X_test,y_test)"
   ]
  },
  {
   "cell_type": "code",
   "execution_count": 14,
   "metadata": {},
   "outputs": [
    {
     "data": {
      "text/plain": [
       "0.8722315424996614"
      ]
     },
     "execution_count": 14,
     "metadata": {},
     "output_type": "execute_result"
    }
   ],
   "source": [
    "ETR = ExtraTreesRegressor(n_estimators=50)\n",
    "ETR.fit(X_train,y_train)\n",
    "y_pred_ETR_50 = ETR.predict(X_test)\n",
    "ETR.score(X_test,y_test)"
   ]
  },
  {
   "cell_type": "code",
   "execution_count": 15,
   "metadata": {},
   "outputs": [
    {
     "data": {
      "text/plain": [
       "0.8680098952244485"
      ]
     },
     "execution_count": 15,
     "metadata": {},
     "output_type": "execute_result"
    }
   ],
   "source": [
    "ETR = ExtraTreesRegressor(n_estimators=60)\n",
    "ETR.fit(X_train,y_train)\n",
    "y_pred_ETR_60 = ETR.predict(X_test)\n",
    "ETR.score(X_test,y_test)"
   ]
  },
  {
   "cell_type": "code",
   "execution_count": 16,
   "metadata": {},
   "outputs": [
    {
     "data": {
      "image/png": "[encoded data removed]",
      "text/plain": [
       "<Figure size 1152x288 with 1 Axes>"
      ]
     },
     "metadata": {
      "needs_background": "light"
     },
     "output_type": "display_data"
    }
   ],
   "source": [
    "plt.figure(figsize=(16,4))\n",
    "plt.plot(np.arange(X_test.shape[0]),y_test,label=\"GroundTruth\")\n",
    "plt.plot(np.arange(X_test.shape[0]),y_pred_RFR,color=\"red\",label=\"RFR\")\n",
    "plt.plot(np.arange(X_test.shape[0]),y_pred_ETR_50,color=\"magenta\",label=\"ETR\")\n",
    "plt.legend()\n",
    "plt.show()"
   ]
  },
  {
   "cell_type": "code",
   "execution_count": 17,
   "metadata": {},
   "outputs": [
    {
     "data": {
      "text/plain": [
       "0.7929528636174766"
      ]
     },
     "execution_count": 17,
     "metadata": {},
     "output_type": "execute_result"
    }
   ],
   "source": [
    "LinR = LinearRegression()\n",
    "LinR.fit(X_train,y_train)\n",
    "y_pred_LinR = LinR.predict(X_test)\n",
    "LinR.score(X_test,y_test)"
   ]
  },
  {
   "cell_type": "code",
   "execution_count": 18,
   "metadata": {},
   "outputs": [
    {
     "data": {
      "text/plain": [
       "0.792951703110885"
      ]
     },
     "execution_count": 18,
     "metadata": {},
     "output_type": "execute_result"
    }
   ],
   "source": [
    "LR = Ridge()\n",
    "LR.fit(X_train,y_train)\n",
    "y_pred_LR = LR.predict(X_test)\n",
    "LR.score(X_test,y_test)"
   ]
  },
  {
   "cell_type": "code",
   "execution_count": 19,
   "metadata": {},
   "outputs": [
    {
     "data": {
      "text/plain": [
       "0.794678192074573"
      ]
     },
     "execution_count": 19,
     "metadata": {},
     "output_type": "execute_result"
    }
   ],
   "source": [
    "LL = Lasso()\n",
    "LL.fit(X_train,y_train)\n",
    "y_pred_LL = LL.predict(X_test)\n",
    "LL.score(X_test,y_test)"
   ]
  },
  {
   "cell_type": "code",
   "execution_count": 20,
   "metadata": {},
   "outputs": [
    {
     "data": {
      "text/plain": [
       "0.7953753630369653"
      ]
     },
     "execution_count": 20,
     "metadata": {},
     "output_type": "execute_result"
    }
   ],
   "source": [
    "E = ElasticNet()\n",
    "E.fit(X_train,y_train)\n",
    "y_pred_E = E.predict(X_test)\n",
    "E.score(X_test,y_test)"
   ]
  },
  {
   "cell_type": "code",
   "execution_count": 21,
   "metadata": {},
   "outputs": [
    {
     "data": {
      "image/png": "[encoded data removed]",
      "text/plain": [
       "<Figure size 1152x432 with 1 Axes>"
      ]
     },
     "metadata": {
      "needs_background": "light"
     },
     "output_type": "display_data"
    }
   ],
   "source": [
    "plt.figure(figsize=(16,6))\n",
    "plt.plot(np.arange(X_test.shape[0]),y_test,label=\"GroundTruth\")\n",
    "plt.plot(np.arange(X_test.shape[0]),y_pred_RFR,color=\"red\",label=\"RFR\")\n",
    "#plt.plot(np.arange(X_test.shape[0]),y_pred_ETR_50,color=\"magenta\",label=\"ETR\")\n",
    "#plt.plot(np.arange(X_test.shape[0]),y_pred_LinR,color=\"green\",label=\"ETR\")\n",
    "#plt.plot(np.arange(X_test.shape[0]),y_pred_LR,color=\"orange\",label=\"ETR\")\n",
    "#plt.plot(np.arange(X_test.shape[0]),y_pred_LL,color=\"black\",label=\"ETR\")\n",
    "#plt.plot(np.arange(X_test.shape[0]),y_pred_E,color=\"yellow\",label=\"ETR\")\n",
    "plt.legend()\n",
    "plt.show()"
   ]
  },
  {
   "cell_type": "code",
   "execution_count": 22,
   "metadata": {},
   "outputs": [
    {
     "data": {
      "text/plain": [
       "(12.779686441485564,\n",
       " 12.527325262399357,\n",
       " 12.732603485138645,\n",
       " 15.947078862978085,\n",
       " 15.94712355488865,\n",
       " 15.880496180139401,\n",
       " 15.853512112617237)"
      ]
     },
     "execution_count": 22,
     "metadata": {},
     "output_type": "execute_result"
    }
   ],
   "source": [
    "rmse_RFR = np.sqrt(mean_squared_error(y_test, y_pred_RFR))\n",
    "rmse_ETR_50 = np.sqrt(mean_squared_error(y_test, y_pred_ETR_50))\n",
    "rmse_ETR_60 = np.sqrt(mean_squared_error(y_test, y_pred_ETR_60))\n",
    "rmse_LinR = np.sqrt(mean_squared_error(y_test, y_pred_LinR))\n",
    "rmse_LR = np.sqrt(mean_squared_error(y_test, y_pred_LR))\n",
    "rmse_LL = np.sqrt(mean_squared_error(y_test, y_pred_LL))\n",
    "rmse_E = np.sqrt(mean_squared_error(y_test, y_pred_E))\n",
    "rmse_RFR,rmse_ETR_50,rmse_ETR_60,rmse_LinR,rmse_LR,rmse_LL,rmse_E\n"
   ]
  },
  {
   "cell_type": "markdown",
   "metadata": {},
   "source": [
    "### The best number of estimators for ExtraTreesRegressor:"
   ]
  },
  {
   "cell_type": "code",
   "execution_count": 37,
   "metadata": {},
   "outputs": [],
   "source": [
    "array = np.arange(10,60,step=5)"
   ]
  },
  {
   "cell_type": "code",
   "execution_count": 38,
   "metadata": {},
   "outputs": [],
   "source": [
    "import numpy as np\n",
    "\n",
    "scores = []\n",
    "rmses = []\n",
    "for n in array:\n",
    "    ETR = ExtraTreesRegressor(n_estimators=n)\n",
    "    ETR.fit(X_train,y_train)\n",
    "    y_pred = ETR.predict(X_test)\n",
    "    scores.append(ETR.score(X_test,y_test))\n",
    "    rmses.append(mean_squared_error(y_test, y_pred,squared=False))"
   ]
  },
  {
   "cell_type": "code",
   "execution_count": 41,
   "metadata": {},
   "outputs": [
    {
     "data": {
      "text/plain": [
       "(7, 7, 45)"
      ]
     },
     "execution_count": 41,
     "metadata": {},
     "output_type": "execute_result"
    }
   ],
   "source": [
    "np.argmax(scores), np.argmin(rmses), array[7]"
   ]
  },
  {
   "cell_type": "code",
   "execution_count": 42,
   "metadata": {},
   "outputs": [
    {
     "name": "stdout",
     "output_type": "stream",
     "text": [
      "0.8725424542006419\n",
      "12.534880500825594\n"
     ]
    }
   ],
   "source": [
    "ETR = ExtraTreesRegressor(n_estimators=45)\n",
    "ETR.fit(X_train,y_train)\n",
    "y_pred = ETR.predict(X_test)\n",
    "print(ETR.score(X_test,y_test))\n",
    "print(mean_squared_error(y_test, y_pred,squared=False))"
   ]
  },
  {
   "cell_type": "markdown",
   "metadata": {},
   "source": [
    "### For learning future radiations make shifts:"
   ]
  },
  {
   "cell_type": "markdown",
   "metadata": {},
   "source": [
    "train_data 2018-01-01 00:00 kuni 2021-11-30 23:55 radiation_flux radiation_flux_1 r"
   ]
  },
  {
   "cell_type": "code",
   "execution_count": 45,
   "metadata": {},
   "outputs": [
    {
     "data": {
      "text/html": [
       "<div>\n",
       "<style scoped>\n",
       "    .dataframe tbody tr th:only-of-type {\n",
       "        vertical-align: middle;\n",
       "    }\n",
       "\n",
       "    .dataframe tbody tr th {\n",
       "        vertical-align: top;\n",
       "    }\n",
       "\n",
       "    .dataframe thead th {\n",
       "        text-align: right;\n",
       "    }\n",
       "</style>\n",
       "<table border=\"1\" class=\"dataframe\">\n",
       "  <thead>\n",
       "    <tr style=\"text-align: right;\">\n",
       "      <th></th>\n",
       "      <th>timestamp</th>\n",
       "      <th>temperature</th>\n",
       "      <th>humidity</th>\n",
       "      <th>atm_pressure</th>\n",
       "      <th>windspeed</th>\n",
       "      <th>wind_direction</th>\n",
       "      <th>precipitation</th>\n",
       "      <th>radiation_flux</th>\n",
       "      <th>year</th>\n",
       "      <th>month</th>\n",
       "      <th>...</th>\n",
       "      <th>radiation_flux_2</th>\n",
       "      <th>radiation_flux_3</th>\n",
       "      <th>radiation_flux_4</th>\n",
       "      <th>radiation_flux_5</th>\n",
       "      <th>radiation_flux_7</th>\n",
       "      <th>radiation_flux_8</th>\n",
       "      <th>radiation_flux_9</th>\n",
       "      <th>radiation_flux_10</th>\n",
       "      <th>radiation_flux_11</th>\n",
       "      <th>radiation_flux_12</th>\n",
       "    </tr>\n",
       "  </thead>\n",
       "  <tbody>\n",
       "    <tr>\n",
       "      <th>0</th>\n",
       "      <td>2021-12-01</td>\n",
       "      <td>-7.501542</td>\n",
       "      <td>81.052555</td>\n",
       "      <td>982.982767</td>\n",
       "      <td>7.238821</td>\n",
       "      <td>286.398671</td>\n",
       "      <td>0.0</td>\n",
       "      <td>2.063729</td>\n",
       "      <td>2021</td>\n",
       "      <td>12</td>\n",
       "      <td>...</td>\n",
       "      <td>2.825529</td>\n",
       "      <td>2.575</td>\n",
       "      <td>2.857592</td>\n",
       "      <td>2.779076</td>\n",
       "      <td>1.670394</td>\n",
       "      <td>2.020584</td>\n",
       "      <td>1.53915</td>\n",
       "      <td>1.876869</td>\n",
       "      <td>1.65987</td>\n",
       "      <td>1.357387</td>\n",
       "    </tr>\n",
       "  </tbody>\n",
       "</table>\n",
       "<p>1 rows × 25 columns</p>\n",
       "</div>"
      ],
      "text/plain": [
       "   timestamp  temperature   humidity  atm_pressure  windspeed  wind_direction  \\\n",
       "0 2021-12-01    -7.501542  81.052555    982.982767   7.238821      286.398671   \n",
       "\n",
       "   precipitation  radiation_flux  year  month  ...  radiation_flux_2  \\\n",
       "0            0.0        2.063729  2021     12  ...          2.825529   \n",
       "\n",
       "   radiation_flux_3  radiation_flux_4  radiation_flux_5  radiation_flux_7  \\\n",
       "0             2.575          2.857592          2.779076          1.670394   \n",
       "\n",
       "   radiation_flux_8  radiation_flux_9  radiation_flux_10  radiation_flux_11  \\\n",
       "0          2.020584           1.53915           1.876869            1.65987   \n",
       "\n",
       "   radiation_flux_12  \n",
       "0           1.357387  \n",
       "\n",
       "[1 rows x 25 columns]"
      ]
     },
     "execution_count": 45,
     "metadata": {},
     "output_type": "execute_result"
    }
   ],
   "source": [
    "for i in range(1,13):\n",
    "    train_data = add_shifted_col(train_data,\"radiation_flux\",i)\n",
    "    test_data = add_shifted_col(test_data,\"radiation_flux\",i)\n",
    "train_data_shifts = train_data.dropna()\n",
    "test_data_shifts = test_data.dropna()\n",
    "train_data_shifts.head(1)\n",
    "test_data_shifts.head(1)\n"
   ]
  },
  {
   "cell_type": "markdown",
   "metadata": {},
   "source": [
    "### Train models, predict and calculate score and rmse for each shift:"
   ]
  },
  {
   "cell_type": "code",
   "execution_count": 93,
   "metadata": {},
   "outputs": [],
   "source": [
    "ETR = ExtraTreesRegressor(n_estimators=45)\n",
    "X_train = train_data_shifts[columns]\n",
    "X_test = test_data_shifts[columns]\n",
    "scores = []\n",
    "rmses = []\n",
    "predictions = pd.DataFrame()\n",
    "for i in range(1,13):\n",
    "    ETR.fit(X_train,train_data_shifts[f\"radiation_flux_{i}\"])\n",
    "    y_test = test_data_shifts[f\"radiation_flux_{i}\"]\n",
    "    scores.append(ETR.score(X_test,y_test))\n",
    "    y_pred = ETR.predict(X_test)\n",
    "    predictions[f\"y_pred_{i}\"] = y_pred\n",
    "    rmses.append(mean_squared_error(y_test,y_pred,squared=False))"
   ]
  },
  {
   "cell_type": "markdown",
   "metadata": {},
   "source": [
    "### Scores and RMSEs:"
   ]
  },
  {
   "cell_type": "code",
   "execution_count": 96,
   "metadata": {},
   "outputs": [
    {
     "data": {
      "text/plain": [
       "([0.9710824374108371,\n",
       "  0.9396330945535338,\n",
       "  0.9120863717825355,\n",
       "  0.8972597006173368,\n",
       "  0.8955441897146519,\n",
       "  0.8693835803595218,\n",
       "  0.8450804178293402,\n",
       "  0.830536315033819,\n",
       "  0.8302920482932763,\n",
       "  0.8130881628269279,\n",
       "  0.8142306510162904,\n",
       "  0.799203599767815],\n",
       " [5.981545954662861,\n",
       "  8.642381461414974,\n",
       "  10.429510545955967,\n",
       "  11.274714841419474,\n",
       "  11.368446865734002,\n",
       "  12.712578191278157,\n",
       "  13.844780127434568,\n",
       "  14.480030102582646,\n",
       "  14.490452367277554,\n",
       "  15.207123974398554,\n",
       "  15.1605397466506,\n",
       "  15.761697785406202])"
      ]
     },
     "execution_count": 96,
     "metadata": {},
     "output_type": "execute_result"
    }
   ],
   "source": [
    "scores, rmses"
   ]
  },
  {
   "cell_type": "markdown",
   "metadata": {},
   "source": [
    "### Pedictions"
   ]
  },
  {
   "cell_type": "code",
   "execution_count": 98,
   "metadata": {},
   "outputs": [
    {
     "data": {
      "text/plain": [
       "y_pred_1     1.868779\n",
       "y_pred_2     1.329308\n",
       "y_pred_3     1.200443\n",
       "y_pred_4     2.031487\n",
       "y_pred_5     2.466184\n",
       "y_pred_6     1.217104\n",
       "y_pred_7     0.900915\n",
       "y_pred_8     0.855314\n",
       "y_pred_9     1.268515\n",
       "y_pred_10    0.901201\n",
       "y_pred_11    1.049500\n",
       "y_pred_12    1.004256\n",
       "Name: 2561, dtype: float64"
      ]
     },
     "execution_count": 98,
     "metadata": {},
     "output_type": "execute_result"
    }
   ],
   "source": [
    "predictions.sample(10)\n",
    "predictions.iloc[-1,:]"
   ]
  },
  {
   "cell_type": "markdown",
   "metadata": {},
   "source": [
    "# PCA"
   ]
  },
  {
   "cell_type": "code",
   "execution_count": 30,
   "metadata": {},
   "outputs": [],
   "source": [
    "from sklearn.decomposition import PCA"
   ]
  },
  {
   "cell_type": "code",
   "execution_count": 31,
   "metadata": {},
   "outputs": [],
   "source": [
    "pca=PCA(n_components=0.9)\n",
    "pca.fit(X_train)\n",
    "X_train_compressed = pca.transform(X_train)\n",
    "X_test_compressed = pca.transform(X_test)"
   ]
  },
  {
   "cell_type": "code",
   "execution_count": 32,
   "metadata": {},
   "outputs": [
    {
     "data": {
      "text/plain": [
       "(415628, 2)"
      ]
     },
     "execution_count": 32,
     "metadata": {},
     "output_type": "execute_result"
    }
   ],
   "source": [
    "X_train_compressed.shape"
   ]
  },
  {
   "cell_type": "code",
   "execution_count": 33,
   "metadata": {},
   "outputs": [
    {
     "data": {
      "text/plain": [
       "0.7215757843876424"
      ]
     },
     "execution_count": 33,
     "metadata": {},
     "output_type": "execute_result"
    }
   ],
   "source": [
    "RF = RandomForestRegressor()\n",
    "RF.fit(X_train_compressed,y_train)\n",
    "RF.score(X_test_compressed,y_test)"
   ]
  },
  {
   "cell_type": "markdown",
   "metadata": {},
   "source": [
    "Worse!!!"
   ]
  },
  {
   "cell_type": "markdown",
   "metadata": {},
   "source": [
    "# XGBoost"
   ]
  },
  {
   "cell_type": "code",
   "execution_count": 1,
   "metadata": {},
   "outputs": [
    {
     "name": "stdout",
     "output_type": "stream",
     "text": [
      "Requirement already satisfied: xgboost in /Users/heidi/.local/lib/python3.8/site-packages (1.5.1)\n",
      "Requirement already satisfied: scipy in /Users/heidi/opt/anaconda3/lib/python3.8/site-packages (from xgboost) (1.7.1)\n",
      "Requirement already satisfied: numpy in /Users/heidi/opt/anaconda3/lib/python3.8/site-packages (from xgboost) (1.21.2)\n",
      "Note: you may need to restart the kernel to use updated packages.\n"
     ]
    }
   ],
   "source": [
    "#%pip install xgboost\n",
    "#%pip install libomp"
   ]
  },
  {
   "cell_type": "code",
   "execution_count": 34,
   "metadata": {},
   "outputs": [],
   "source": [
    "import xgboost as xgb"
   ]
  },
  {
   "cell_type": "code",
   "execution_count": 35,
   "metadata": {},
   "outputs": [],
   "source": [
    "# XGBoosts wants data to be wrapped into special formats\n",
    "dtrain = xgb.DMatrix(X_train,y_train)\n",
    "dtest = xgb.DMatrix(X_test,y_test)\n",
    "\n",
    "# most meaningful parameters\n",
    "param_list = [(\"objective\", \"multi:softmax\"), (\"eval_metric\", \"merror\"), (\"num_class\", 10)]\n",
    "\n",
    "# Number of trees\n",
    "n_rounds = 600\n",
    "\n",
    "# if nothing seems to improve for 50 iterations - stop\n",
    "early_stopping = 50\n",
    "\n",
    "# train for training and test for ... validation!    \n",
    "eval_list = [(dtrain, \"train\"), (dtest, \"validation\")]\n",
    "\n",
    "# 1,2,3.. go!\n",
    "bst = xgb.train(param_list, dtrain, n_rounds, evals=eval_list, early_stopping_rounds=early_stopping, verbose_eval=True)\n"
   ]
  },
  {
   "cell_type": "code",
   "execution_count": null,
   "metadata": {},
   "outputs": [],
   "source": [
    "ypred = bst.predict(dtest) #, iteration_range=(0, bst.best_iteration + 1)) # this iteration_range do not work, but was in the documentation page.. weird\n",
    "ypred.shape\n",
    "print(f'Accuracy of XGBoost is {(np.sum(ypred==test_labels)/test_labels.shape[0])*100}%')"
   ]
  }
 ],
 "metadata": {
  "interpreter": {
   "hash": "34368ba4908ea1be08ba769dfb7764ab7f8ead2384ebb5604cb86637573696f7"
  },
  "kernelspec": {
   "display_name": "Python 3.8.12 64-bit (conda)",
   "language": "python",
   "name": "python3"
  },
  "language_info": {
   "codemirror_mode": {
    "name": "ipython",
    "version": 3
   },
   "file_extension": ".py",
   "mimetype": "text/x-python",
   "name": "python",
   "nbconvert_exporter": "python",
   "pygments_lexer": "ipython3",
   "version": "3.8.12"
  },
  "orig_nbformat": 4
 },
 "nbformat": 4,
 "nbformat_minor": 2
}
